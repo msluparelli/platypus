{
  "cells": [
    {
      "cell_type": "markdown",
      "metadata": {
        "tags": [
          "remove_cell"
        ]
      },
      "source": [
        "# Redes neuronales híbridas cuánticas-clásicas con PyTorch y Qiskit"
      ]
    },
    {
      "cell_type": "markdown",
      "metadata": {
      },
      "source": [
        "El aprendizaje automático (ML) se ha establecido como un campo interdisciplinario exitoso que busca extraer matemáticamente información generalizable de los datos (patrones). Incluir la computación cuántica da lugar a interesantes áreas de investigación que buscan aprovechar los principios de la mecánica cuántica para mejorar el proceso de  aprendizaje automático o viceversa. Ya sea que su objetivo sea mejorar los algoritmos de ML clásicos aprovechando las capacidades de cálculos complejos de una computadora cuántica, o bien optimizar algoritmos cuánticos usando arquitecturas de ML clásicas, ambos se encuentran bajo el paraguas del aprendizaje automático cuántico (QML).\n",
        "\n",
        "En este capítulo, exploramos cómo una red neuronal clásica se puede modificar parcialmente para crear una red neuronal clásica cuántica híbrida. Construiremos un ejemplo simple que integra **Qiskit** con un paquete de software de código abierto de última generación: **[PyTorch](https://pytorch.org/)** . El propósito de este ejemplo es demostrar la facilidad de integrar Qiskit con las herramientas de ML existentes y alentar a los profesionales de ML a explorar lo que es posible con la computación cuántica.\n",
        "\n",
        "## Contenido\n",
        "\n",
        "1. [¿Como funciona?](#how)<br> 1.1 [Primero pasos](#prelims)\n",
        "2. [Entonces, ¿Cómo entra lo Cuántico en escena?](#quantumlayer)\n",
        "3. [¡Programemos!](#code)<br> 3.1 [Librerías](#imports)<br> 3.2 [Crear una \"clase cuántica\" con Qiskit](#q-class)<br> 3.3 [Crear una \"clase clásica cuántica\" con PyTorch](#qc-class)<br> 3.4 [Carga y preprocesamiento de datos](#data-loading-preprocessing)<br> 3.5 [Creando la Red Neuronal Híbrida](#hybrid-nn)<br> 3.6 [Entrenamiento de la Red](#training)<br> 3.7 [Evaluación de la red](#testing)\n",
        "4. [¿Qué sigue?](#what-now)"
      ]
    },
    {
      "cell_type": "markdown",
      "metadata": {
      },
      "source": [
        "## 1. ¿Cómo funciona?<a id=\"how\"></a>\n",
        "\n",
        "<img src=\"https://github.com/msluparelli/platypus/blob/main/es/notebooks/ch-machine-learning/hybridnetwork.png?raw=true\" class=\"\">\n",
        "\n",
        "La **figura 1** ilustra el marco que construiremos en este capítulo. En última instancia, crearemos una red neuronal clásica cuántica híbrida que busca clasificar los dígitos dibujados a mano. **Nota**: Aunque no se indique visualmente, las conexiones que se muestran en esta imagen están todas dirigidos hacia abajo. "
      ]
    },
    {
      "cell_type": "markdown",
      "metadata": {
      },
      "source": [
        "### 1.1 Primeros pasos <a id=\"prelims\"></a>\n",
        "\n",
        "Los conceptos presentados aquí sobre las redes neuronales clásicas se incluyen para destacar las ideas más relevantes y emplear la terminología habitual en esta disciplina. Sin embargo, sigue siendo una aproximación a alto nivel. **Si desea sumergirse un paso más en las redes neuronales clásicas, vea la serie de videos muy bien desarrollados por el youtuber** [3Blue1Brown](https://youtu.be/aircAruvnKk) . Alternativamente, si ya está familiarizado con las redes clásicas, puede [pasar a la siguiente sección](#quantumlayer) .\n",
        "\n",
        "###### Neuronas y Pesos\n",
        "\n",
        "Una red neuronal es una arquitectura compuesta de pequeños bloques de construcción llamados neuronas. Una ***neurona*** suele representar una función simple, fácil de calcular y no lineal que asigna una o más entradas a un solo número real. La salida única de una neurona generalmente se copia y actúa como data de entrada a otras neuronas. Gráficamente, representamos las neuronas como nodos en un gráfico y dibujamos conexiones dirigidas al resto de nodos para indicar cómo se usará la salida de una neurona como entrada para otras neuronas (capas). También es importante tener en cuenta que cada conexión en nuestro gráfico se asocia a menudo con un valor escalar llamado [***peso***](https://en.wikipedia.org/wiki/Artificial_neural_network#Connections_and_weights) . La idea aquí es que cada una de las entradas a una neurona se multiplique por un escalar diferente antes de recopilarse y procesarse en un solo valor. El objetivo al entrenar una red neuronal consiste principalmente en elegir nuestros pesos para que la red se comporte de una manera particular.\n",
        "\n",
        "###### Propagación o alimentación hacia delante\n",
        "\n",
        "También vale la pena señalar que el tipo particular de red neuronal del que nos ocuparemos se denomina **[red neuronal de alimentación hacia adelante (FFNN)](https://en.wikipedia.org/wiki/Feedforward_neural_network)** . Esto significa que a medida que los datos fluyen a través de nuestra red neuronal, nunca volverán a una neurona que ya visitó. De manera equivalente, se podría decir que el gráfico que describe nuestra red neuronal es un **[grafo acíclico dirigido (DAG)](https://en.wikipedia.org/wiki/Directed_acyclic_graph)** . Además, las neuronas dentro de la misma capa de nuestra red neuronal no tendrán conexiones entre ellas.\n",
        "\n",
        "###### Estructura de las capas (Entrada y Salida)\n",
        "\n",
        "La entrada a una red neuronal es un vector clásico (de valor real). Cada componente del vector de entrada se multiplica por un peso diferente y se alimenta a una capa de neuronas de acuerdo con la estructura gráfica de la red. Después de evaluar cada neurona de la capa, los resultados se recopilan en un nuevo vector donde el i-ésimo componente registra la salida de la i-ésima neurona. Este nuevo vector se puede tratar como una entrada para una nueva capa, y así sucesivamente. Usaremos el término estándar ***capa oculta*** para describir todas las capas de nuestra red excepto la primera y la última.\n"
      ]
    },
    {
      "cell_type": "markdown",
      "metadata": {
      },
      "source": [
        "## 2. Entonces, ¿Cómo entra lo Cuántico en escena? <a id=\"quantumlayer\"> </a>\n",
        "\n",
        "Para crear una red neuronal clásica cuántica, se puede implementar una capa oculta para nuestra red neuronal utilizando un circuito cuántico parametrizado. Por \"circuito cuántico parametrizado\", nos referimos a un circuito cuántico donde los ángulos de rotación para cada puerta están especificados por los componentes de un vector de entrada clásico. Las salidas de la capa anterior de nuestra red neuronal se recopilarán y utilizarán como entradas para nuestro circuito parametrizado. Las mediciones estadísticas de nuestro circuito cuántico se pueden recopilar y utilizar como entradas para la siguiente capa. A continuación se muestra un simple ejemplo:\n",
        "\n",
        "<img src=\"https://github.com/msluparelli/platypus/blob/main/es/notebooks/ch-machine-learning/neuralnetworkQC.png?raw=true\" class=\"\">\n",
        "\n",
        "Aquí, $\\sigma$ es una [función no lineal](https://en.wikipedia.org/wiki/Activation_function) y $h_i$ es el valor de la neurona $i$ en cada capa oculta. $R(h_i)$ representa cualquier rotación sobre un ángulo igual a $h_i$ y $y$ es el valor de predicción final generado a partir de la red híbrida.\n",
        "\n",
        "### ¿Cómo se propaga el error hacia atrás?\n",
        "\n",
        "Si está familiarizado con el aprendizaje automático clásico, es posible que se pregunte de inmediato *cómo calculamos los gradientes cuando se trata de circuitos cuánticos.* Esto sería necesario para incorporar potentes técnicas de optimización como **[el método del gradiente descendente](https://en.wikipedia.org/wiki/Gradient_descent)** . Aunque se vuelve un poco técnico, en resumen, podemos aceptar que un circuito cuántico es como una caja negra y el gradiente de esta caja negra con respecto a sus parámetros se puede calcular de la siguiente manera:\n",
        "\n",
        "<img src=\"quantumgradient.png\">\n",
        "\n",
        "donde $\\theta$ representa los parámetros del circuito cuántico y $s$ es un desplazamiento macroscópico. El gradiente es entonces simplemente la diferencia entre nuestro circuito cuántico evaluado en $\\theta+s$ y $\\theta - s$. Por lo tanto, podemos diferenciar sistemáticamente nuestro circuito cuántico como parte de una rutina de retropropagación más grande. Esta regla para calcular el gradiente de los parámetros del circuito cuántico se conoce como **[la regla de cambio de parámetros](https://arxiv.org/pdf/1905.13311.pdf)** . "
      ]
    },
    {
      "cell_type": "code",
      "execution_count": 2,
      "metadata": {
      },
      "outputs": [

      ],
      "source": [
        "# instala las librerías necesarias para este ejercicio\n",
        "!pip install torchvision"
      ]
    },
    {
      "cell_type": "markdown",
      "metadata": {
      },
      "source": [
        "## 3. ¡Programemos! <a id=\"code\"></a>\n",
        "\n",
        "### 3.1 Librerías <a id=\"imports\"></a>\n",
        "\n",
        "Primero, importamos algunas librerías útiles que necesitaremos, incluidos Qiskit y PyTorch."
      ]
    },
    {
      "cell_type": "code",
      "execution_count": 1,
      "metadata": {
      },
      "outputs": [

      ],
      "source": [
        "import numpy as np\n",
        "import matplotlib.pyplot as plt\n",
        "\n",
        "import torch\n",
        "from torch.autograd import Function\n",
        "from torchvision import datasets, transforms\n",
        "import torch.optim as optim\n",
        "import torch.nn as nn\n",
        "import torch.nn.functional as F\n",
        "\n",
        "import qiskit\n",
        "from qiskit import transpile, assemble\n",
        "from qiskit.visualization import *"
      ]
    },
    {
      "cell_type": "markdown",
      "metadata": {
      },
      "source": [
        "### 3.2 Crear una \"clase cuántica\" con Qiskit <a id=\"q-class\"></a>\n",
        "\n",
        "Pondremos nuestras funciones cuánticas de Qiskit en una clase. Primero, especificamos cuántos parámetros cuánticos entrenables y cuántos intentos deseamos usar en nuestro circuito cuántico. En este ejemplo, lo mantendremos simple y usaremos un circuito de 1 qubit con un parámetro cuántico entrenable $\\theta$. Por simplicidad, iniciamos manualmente el circuito y usamos una rotación $RY-$ por el ángulo $\\theta$ para entrenar la salida de nuestro circuito. El circuito se ve así:\n",
        "\n",
        "<img src=\"1qubitcirc.png\" width=\"400\">\n",
        "\n",
        "Para medir la salida en la base $z-$, calculamos la expectativa de $\\sigma_\\mathbf{z}$. $$\\sigma_\\mathbf{z} = \\sum_i z_i p(z_i)$$ Más adelante veremos cómo todo esto se relaciona con la red neuronal híbrida."
      ]
    },
    {
      "cell_type": "code",
      "execution_count": 6,
      "metadata": {
      },
      "outputs": [

      ],
      "source": [
        "class QuantumCircuit:\n",
        "    \"\"\" \n",
        "    Esta clase devuelve una interface simple para\n",
        "    interactuar con el circuito cuántico\n",
        "    \"\"\"\n",
        "    \n",
        "    def __init__(self, n_qubits, backend, shots):\n",
        "        # --- Definición del circuito ---\n",
        "        self._circuit = qiskit.QuantumCircuit(n_qubits)\n",
        "        \n",
        "        all_qubits = [i for i in range(n_qubits)]\n",
        "        self.theta = qiskit.circuit.Parameter('theta')\n",
        "        \n",
        "        self._circuit.h(all_qubits)\n",
        "        self._circuit.barrier()\n",
        "        self._circuit.ry(self.theta, all_qubits)\n",
        "        \n",
        "        self._circuit.measure_all()\n",
        "        # ---------------------------\n",
        "\n",
        "        self.backend = backend\n",
        "        self.shots = shots\n",
        "    \n",
        "    def run(self, thetas):\n",
        "        t_qc = transpile(self._circuit,\n",
        "                         self.backend)\n",
        "        qobj = assemble(t_qc,\n",
        "                        shots=self.shots,\n",
        "                        parameter_binds = [{self.theta: theta} for theta in thetas])\n",
        "        job = self.backend.run(qobj)\n",
        "        result = job.result().get_counts(self._circuit)\n",
        "        \n",
        "        counts = np.array(list(result.values()))\n",
        "        states = np.array(list(result.keys())).astype(float)\n",
        "        \n",
        "        # Calcula las probabilidades para cada estado\n",
        "        probabilities = counts / self.shots\n",
        "        # Obtener el valor esperado\n",
        "        expectation = np.sum(states * probabilities)\n",
        "        \n",
        "        return np.array([expectation])"
      ]
    },
    {
      "cell_type": "markdown",
      "metadata": {
      },
      "source": [
        "Probemos la implementación"
      ]
    },
    {
      "cell_type": "code",
      "execution_count": 7,
      "metadata": {
      },
      "outputs": [
        {
          "name": "stdout",
          "output_type": "stream",
          "text": [
            "Valor esperado para la rotación pi 0.4\n"
          ]
        },
        {
          "data": {
            "image/svg+xml": [
              "<?xml version=\"1.0\" encoding=\"UTF-8\"?><!DOCTYPE svg  PUBLIC '-//W3C//DTD SVG 1.1//EN'  'http://www.w3.org/Graphics/SVG/1.1/DTD/svg11.dtd'><svg width=\"329.9pt\" height=\"123.48pt\" version=\"1.1\" viewBox=\"0 0 329.9 123.48\" xmlns=\"http://www.w3.org/2000/svg\" xmlns:xlink=\"http://www.w3.org/1999/xlink\"><defs><style type=\"text/css\">*{stroke-linecap:butt;stroke-linejoin:round;}</style></defs><path d=\"m0 123.48h329.9v-123.48h-329.9z\" fill=\"#ffffff\"/><path d=\"m286.79 78.672h11.817l-5.9086 8.5221z\" clip-path=\"url(#p45a0bca6d2)\" fill=\"#778899\"/><path d=\"m86.353 43.561h231.8\" clip-path=\"url(#p45a0bca6d2)\" fill=\"none\" stroke=\"#000000\" stroke-linecap=\"square\" stroke-width=\"2\"/><path d=\"m86.353 87.535h231.8\" clip-path=\"url(#p45a0bca6d2)\" fill=\"none\" stroke=\"#778899\" stroke-linecap=\"square\" stroke-width=\"2\"/><path d=\"m86.353 90.489h231.8\" clip-path=\"url(#p45a0bca6d2)\" fill=\"none\" stroke=\"#778899\" stroke-linecap=\"square\" stroke-width=\"2\"/><path d=\"m147.48 66.286h17.726v-45.451h-17.726z\" clip-path=\"url(#p45a0bca6d2)\" fill=\"#bdbdbd\" opacity=\".6\"/><path d=\"m238.39 66.286h17.726v-45.451h-17.726z\" clip-path=\"url(#p45a0bca6d2)\" fill=\"#bdbdbd\" opacity=\".6\"/><path d=\"m294.18 43.561v35.111\" clip-path=\"url(#p45a0bca6d2)\" fill=\"none\" stroke=\"#778899\" stroke-linecap=\"square\" stroke-width=\"2\"/><path d=\"m291.22 43.561v35.111\" clip-path=\"url(#p45a0bca6d2)\" fill=\"none\" stroke=\"#778899\" stroke-linecap=\"square\" stroke-width=\"2\"/><path d=\"m96.125 58.332h29.543v-29.543h-29.543z\" clip-path=\"url(#p45a0bca6d2)\" fill=\"#6fa4ff\" stroke=\"#6fa4ff\" stroke-width=\"1.5\"/><path d=\"m187.03 58.332h29.543v-29.543h-29.543z\" clip-path=\"url(#p45a0bca6d2)\" fill=\"#bb8bff\" stroke=\"#bb8bff\" stroke-width=\"1.5\"/><path d=\"m277.93 58.332h29.543v-29.543h-29.543z\" clip-path=\"url(#p45a0bca6d2)\" stroke=\"#000000\" stroke-width=\"1.5\"/><path d=\"m303.04 47.992c0-2.7413-1.0901-5.3732-3.0285-7.3116-1.9384-1.9384-4.5702-3.0285-7.3116-3.0285s-5.3732 1.0901-7.3116 3.0285-3.0285 4.5702-3.0285 7.3116\" clip-path=\"url(#p45a0bca6d2)\" fill=\"none\" stroke=\"#ffffff\" stroke-width=\"2\"/><path d=\"m292.7 47.992 10.34-10.34\" clip-path=\"url(#p45a0bca6d2)\" fill=\"none\" stroke=\"#ffffff\" stroke-linecap=\"square\" stroke-width=\"2\"/><path d=\"m156.35 20.835v45.451\" clip-path=\"url(#p45a0bca6d2)\" fill=\"none\" stroke=\"#000000\" stroke-dasharray=\"3.7,1.6\"/><path d=\"m247.25 20.835v45.451\" clip-path=\"url(#p45a0bca6d2)\" fill=\"none\" stroke=\"#000000\" stroke-dasharray=\"3.7,1.6\"/><g clip-path=\"url(#p45a0bca6d2)\"><defs><path id=\"DejaVuSans-72\" d=\"m9.8125 72.906h9.8594v-29.891h35.844v29.891h9.8594v-72.906h-9.8594v34.719h-35.844v-34.719h-9.8594z\"/></defs><g transform=\"translate(106.01 47.148) scale(.13 -.13)\"><use xlink:href=\"#DejaVuSans-72\"/></g></g><g clip-path=\"url(#p45a0bca6d2)\"><defs><path id=\"DejaVuSans-82\" d=\"m44.391 34.188q3.1719-1.0781 6.1719-4.5938t6.0312-9.6719l10.016-19.922h-10.609l-9.3125 18.703q-3.625 7.3281-7.0156 9.7188t-9.25 2.3906h-10.75v-30.812h-9.8594v72.906h22.266q12.5 0 18.656-5.2344 6.1562-5.2188 6.1562-15.766 0-6.8906-3.2031-11.438-3.2031-4.5312-9.2969-6.2812zm-24.719 30.609v-25.875h12.406q7.125 0 10.766 3.2969t3.6406 9.6875-3.6406 9.6406-10.766 3.25z\"/><path id=\"DejaVuSans-89\" d=\"m-0.20312 72.906h10.609l20.203-29.984 20.078 29.984h10.594l-25.781-38.188v-34.719h-9.9062v34.719z\"/></defs><g transform=\"translate(194.26 42.717) scale(.13 -.13)\"><use transform=\"translate(0 .09375)\" xlink:href=\"#DejaVuSans-82\"/><use transform=\"translate(70.439 -16.312) scale(.7)\" xlink:href=\"#DejaVuSans-89\"/></g></g><g clip-path=\"url(#p45a0bca6d2)\"><defs><path id=\"DejaVuSans-116\" d=\"m18.312 70.219v-15.531h18.5v-6.9844h-18.5v-29.688q0-6.6875 1.8281-8.5938t7.4531-1.9062h9.2188v-7.5156h-9.2188q-10.406 0-14.359 3.875-3.9531 3.8906-3.9531 14.141v29.688h-6.5938v6.9844h6.5938v15.531z\"/><path id=\"DejaVuSans-104\" d=\"m54.891 33.016v-33.016h-8.9844v32.719q0 7.7656-3.0312 11.609-3.0312 3.8594-9.0781 3.8594-7.2812 0-11.484-4.6406-4.2031-4.625-4.2031-12.641v-30.906h-9.0312v75.984h9.0312v-29.797q3.2344 4.9375 7.5938 7.375 4.375 2.4375 10.094 2.4375 9.4219 0 14.25-5.8281 4.8438-5.8281 4.8438-17.156z\"/><path id=\"DejaVuSans-101\" d=\"m56.203 29.594v-4.3906h-41.312q0.59375-9.2812 5.5938-14.141t13.938-4.8594q5.1719 0 10.031 1.2656t9.6562 3.8125v-8.5q-4.8438-2.0469-9.9219-3.125t-10.297-1.0781q-13.094 0-20.734 7.6094-7.6406 7.625-7.6406 20.625 0 13.422 7.25 21.297 7.25 7.8906 19.562 7.8906 11.031 0 17.453-7.1094 6.4219-7.0938 6.4219-19.297zm-8.9844 2.6406q-0.09375 7.3594-4.125 11.75-4.0312 4.4062-10.672 4.4062-7.5156 0-12.031-4.25t-5.2031-11.969z\"/><path id=\"DejaVuSans-97\" d=\"m34.281 27.484q-10.891 0-15.094-2.4844t-4.2031-8.5q0-4.7812 3.1562-7.5938 3.1562-2.7969 8.5625-2.7969 7.4844 0 12 5.2969t4.5156 14.078v2zm17.922 3.7188v-31.203h-8.9844v8.2969q-3.0781-4.9688-7.6719-7.3438t-11.234-2.375q-8.3906 0-13.359 4.7188-4.9531 4.7188-4.9531 12.625 0 9.2188 6.1719 13.906 6.1875 4.6875 18.438 4.6875h12.609v0.89062q0 6.2031-4.0781 9.5938t-11.453 3.3906q-4.6875 0-9.1406-1.125-4.4375-1.125-8.5312-3.375v8.3125q4.9219 1.9062 9.5625 2.8438 4.6406 0.95312 9.0312 0.95312 11.875 0 17.734-6.1562 5.8594-6.1406 5.8594-18.641z\"/></defs><g transform=\"translate(191.21 54.631) scale(.08 -.08)\"><use xlink:href=\"#DejaVuSans-116\"/><use x=\"39.208984\" xlink:href=\"#DejaVuSans-104\"/><use x=\"102.587891\" xlink:href=\"#DejaVuSans-101\"/><use x=\"164.111328\" xlink:href=\"#DejaVuSans-116\"/><use x=\"203.320312\" xlink:href=\"#DejaVuSans-97\"/></g></g><g clip-path=\"url(#p45a0bca6d2)\"><defs><path id=\"DejaVuSans-48\" d=\"m31.781 66.406q-7.6094 0-11.453-7.5-3.8281-7.4844-3.8281-22.531 0-14.984 3.8281-22.484 3.8438-7.5 11.453-7.5 7.6719 0 11.5 7.5 3.8438 7.5 3.8438 22.484 0 15.047-3.8438 22.531-3.8281 7.5-11.5 7.5zm0 7.8125q12.266 0 18.734-9.7031 6.4688-9.6875 6.4688-28.141 0-18.406-6.4688-28.109-6.4688-9.6875-18.734-9.6875-12.25 0-18.719 9.6875-6.4688 9.7031-6.4688 28.109 0 18.453 6.4688 28.141 6.4688 9.7031 18.719 9.7031z\"/></defs><g transform=\"translate(304.06 82.304) scale(.104 -.104)\"><use xlink:href=\"#DejaVuSans-48\"/></g></g><g clip-path=\"url(#p45a0bca6d2)\"><defs><path id=\"DejaVuSans-113\" d=\"m14.797 27.297q0-9.9062 4.0781-15.547t11.203-5.6406 11.219 5.6406q4.1094 5.6406 4.1094 15.547t-4.1094 15.547q-4.0938 5.6406-11.219 5.6406t-11.203-5.6406-4.0781-15.547zm30.609-19.094q-2.8281-4.875-7.1562-7.25-4.3125-2.375-10.375-2.375-9.9062 0-16.141 7.9062-6.2188 7.9219-6.2188 20.812t6.2188 20.797q6.2344 7.9062 16.141 7.9062 6.0625 0 10.375-2.375 4.3281-2.3594 7.1562-7.2344v8.2969h8.9844v-75.484h-8.9844z\"/></defs><g transform=\"translate(66.947 48.045) scale(.1625 -.1625)\"><use xlink:href=\"#DejaVuSans-113\"/></g></g><g clip-path=\"url(#p45a0bca6d2)\"><defs><path id=\"DejaVuSans-109\" d=\"m52 44.188q3.375 6.0625 8.0625 8.9375t11.031 2.875q8.5469 0 13.188-5.9844 4.6406-5.9688 4.6406-17v-33.016h-9.0312v32.719q0 7.8594-2.7969 11.656-2.7812 3.8125-8.4844 3.8125-6.9844 0-11.047-4.6406-4.0469-4.625-4.0469-12.641v-30.906h-9.0312v32.719q0 7.9062-2.7812 11.688t-8.5938 3.7812q-6.8906 0-10.953-4.6562-4.0469-4.6562-4.0469-12.625v-30.906h-9.0312v54.688h9.0312v-8.5q3.0781 5.0312 7.375 7.4219t10.203 2.3906q5.9688 0 10.141-3.0312 4.1719-3.0156 6.1719-8.7812z\"/><path id=\"DejaVuSans-115\" d=\"m44.281 53.078v-8.5q-3.7969 1.9531-7.9062 2.9219-4.0938 0.98438-8.5 0.98438-6.6875 0-10.031-2.0469t-3.3438-6.1562q0-3.125 2.3906-4.9062t9.625-3.3906l3.0781-0.6875q9.5625-2.0469 13.594-5.7812t4.0312-10.422q0-7.625-6.0312-12.078-6.0312-4.4375-16.578-4.4375-4.3906 0-9.1562 0.85938t-10.031 2.5625v9.2812q4.9844-2.5938 9.8125-3.8906 4.8281-1.2812 9.5781-1.2812 6.3438 0 9.75 2.1719 3.4219 2.1719 3.4219 6.125 0 3.6562-2.4688 5.6094-2.4531 1.9531-10.812 3.7656l-3.125 0.73438q-8.3438 1.75-12.062 5.3906-3.7031 3.6406-3.7031 9.9844 0 7.7188 5.4688 11.906 5.4688 4.2031 15.531 4.2031 4.9688 0 9.3594-0.73438 4.4062-0.71875 8.1094-2.1875z\"/></defs><g transform=\"translate(33.012 93.496) scale(.1625 -.1625)\"><use xlink:href=\"#DejaVuSans-109\"/><use x=\"97.412109\" xlink:href=\"#DejaVuSans-101\"/><use x=\"158.935547\" xlink:href=\"#DejaVuSans-97\"/><use x=\"220.214844\" xlink:href=\"#DejaVuSans-115\"/></g></g><defs><clipPath id=\"p45a0bca6d2\"><rect x=\"7.2\" y=\"7.2\" width=\"315.5\" height=\"109.08\"/></clipPath></defs></svg>"
            ],
            "text/plain": [
              "<Figure size 417.879x144.48 with 1 Axes>"
            ]
          },
          "execution_count": 7,
          "metadata": {
          },
          "output_type": "execute_result"
        }
      ],
      "source": [
        "simulator = qiskit.Aer.get_backend('qasm_simulator')\n",
        "\n",
        "circuit = QuantumCircuit(1, simulator, 100)\n",
        "print('Valor esperado para la rotación pi {}'.format(circuit.run([np.pi])[0]))\n",
        "circuit._circuit.draw()"
      ]
    },
    {
      "cell_type": "markdown",
      "metadata": {
      },
      "source": [
        "### 3.3 Crear una \"clase clásica cuántica\" con PyTorch <a id=\"qc-class\"></a>\n",
        "\n",
        "Ahora, que nuestro circuito cuántico está definido, podemos crear las funciones necesarias para la retropropagación usando PyTorch. [Los pases hacia adelante y hacia atrás](http://www.ai.mit.edu/courses/6.034b/backprops.pdf) contienen elementos de nuestra clase Qiskit. El pase hacia atrás calcula directamente los gradientes utilizando la fórmula de diferencia finita que presentamos anteriormente."
      ]
    },
    {
      "cell_type": "code",
      "execution_count": 8,
      "metadata": {
      },
      "outputs": [

      ],
      "source": [
        "class HybridFunction(Function):\n",
        "    \"\"\" \n",
        "    Definición de la función híbrida cuántica -\n",
        "    clásica\n",
        "    \"\"\"\n",
        "    \n",
        "    @staticmethod\n",
        "    def forward(ctx, input, quantum_circuit, shift):\n",
        "        \"\"\" Propagación hacia adelante \"\"\"\n",
        "        ctx.shift = shift\n",
        "        ctx.quantum_circuit = quantum_circuit\n",
        "\n",
        "        expectation_z = ctx.quantum_circuit.run(input[0].tolist())\n",
        "        result = torch.tensor([expectation_z])\n",
        "        ctx.save_for_backward(input, result)\n",
        "\n",
        "        return result\n",
        "        \n",
        "    @staticmethod\n",
        "    def backward(ctx, grad_output):\n",
        "        \"\"\" Propagación hacia atrás \"\"\"\n",
        "        input, expectation_z = ctx.saved_tensors\n",
        "        input_list = np.array(input.tolist())\n",
        "        \n",
        "        shift_right = input_list + np.ones(input_list.shape) * ctx.shift\n",
        "        shift_left = input_list - np.ones(input_list.shape) * ctx.shift\n",
        "        \n",
        "        gradients = []\n",
        "        for i in range(len(input_list)):\n",
        "            expectation_right = ctx.quantum_circuit.run(shift_right[i])\n",
        "            expectation_left  = ctx.quantum_circuit.run(shift_left[i])\n",
        "            \n",
        "            gradient = torch.tensor([expectation_right]) - torch.tensor([expectation_left])\n",
        "            gradients.append(gradient)\n",
        "        gradients = np.array([gradients]).T\n",
        "        return torch.tensor([gradients]).float() * grad_output.float(), None, None\n",
        "\n",
        "class Hybrid(nn.Module):\n",
        "    \"\"\" \n",
        "    Definición de la capa híbrida cuántica -\n",
        "    clásica\n",
        "    \"\"\"\n",
        "    \n",
        "    def __init__(self, backend, shots, shift):\n",
        "        super(Hybrid, self).__init__()\n",
        "        self.quantum_circuit = QuantumCircuit(1, backend, shots)\n",
        "        self.shift = shift\n",
        "        \n",
        "    def forward(self, input):\n",
        "        return HybridFunction.apply(input, self.quantum_circuit, self.shift)"
      ]
    },
    {
      "cell_type": "markdown",
      "metadata": {
      },
      "source": [
        "### 3.4 Carga y preprocesamiento de datos <a id=\"data-loading-preprocessing\"></a>\n",
        "\n",
        "##### Uniendo todo los pasos:\n",
        "\n",
        "Crearemos una red neuronal híbrida simple para clasificar imágenes de dos tipos de dígitos (0 o 1) del conjunto de [datos MNIST](http://yann.lecun.com/exdb/mnist/) . Primero cargamos la base de datos MNIST y filtramos las imágenes que contienen 0 y 1. Estos servirán como entradas para que nuestra red neuronal los clasifique."
      ]
    },
    {
      "cell_type": "markdown",
      "metadata": {
      },
      "source": [
        "#### Datos de entrenamiento"
      ]
    },
    {
      "cell_type": "code",
      "execution_count": 9,
      "metadata": {
      },
      "outputs": [

      ],
      "source": [
        "# Utilizar las primeras 100 muestras\n",
        "n_samples = 100\n",
        "\n",
        "X_train = datasets.MNIST(root='./data', train=True, download=True,\n",
        "                         transform=transforms.Compose([transforms.ToTensor()]))\n",
        "\n",
        "# Filtrando sólo las etiquetas 0 y 1\n",
        "idx = np.append(np.where(X_train.targets == 0)[0][:n_samples], \n",
        "                np.where(X_train.targets == 1)[0][:n_samples])\n",
        "\n",
        "X_train.data = X_train.data[idx]\n",
        "X_train.targets = X_train.targets[idx]\n",
        "\n",
        "train_loader = torch.utils.data.DataLoader(X_train, batch_size=1, shuffle=True)"
      ]
    },
    {
      "cell_type": "code",
      "execution_count": 10,
      "metadata": {
      },
      "outputs": [
        {
          "data": {
            "image/svg+xml": [
              "<?xml version=\"1.0\" encoding=\"UTF-8\"?><!DOCTYPE svg  PUBLIC '-//W3C//DTD SVG 1.1//EN'  'http://www.w3.org/Graphics/SVG/1.1/DTD/svg11.dtd'><svg width=\"575.9pt\" height=\"112.73pt\" version=\"1.1\" viewBox=\"0 0 575.9 112.73\" xmlns=\"http://www.w3.org/2000/svg\" xmlns:xlink=\"http://www.w3.org/1999/xlink\"><defs><style type=\"text/css\">*{stroke-linecap:butt;stroke-linejoin:round;}</style></defs><path d=\"m0 112.73h575.9v-112.73h-575.9z\" fill=\"none\"/><path d=\"m10.7 102.03h79.714v-79.714h-79.714z\" fill=\"#ffffff\"/><g clip-path=\"url(#p25967bea60)\"><image transform=\"scale(1 -1)translate(0 -80)\" x=\"10.7\" y=\"-22.032\" width=\"80\" height=\"80\" xlink:href=\"data:image/png;base64, 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\"/></g><path d=\"m10.7 102.03v-79.714\" fill=\"none\" stroke=\"#000000\" stroke-linecap=\"square\" stroke-width=\".8\"/><path d=\"m90.414 102.03v-79.714\" fill=\"none\" stroke=\"#000000\" stroke-linecap=\"square\" stroke-width=\".8\"/><path d=\"m10.7 102.03h79.714\" fill=\"none\" stroke=\"#000000\" stroke-linecap=\"square\" stroke-width=\".8\"/><path d=\"m10.7 22.318h79.714\" fill=\"none\" stroke=\"#000000\" stroke-linecap=\"square\" stroke-width=\".8\"/><defs><path id=\"DejaVuSans-76\" d=\"m9.8125 72.906h9.8594v-64.609h35.5v-8.2969h-45.359z\"/><path id=\"DejaVuSans-97\" d=\"m34.281 27.484q-10.891 0-15.094-2.4844t-4.2031-8.5q0-4.7812 3.1562-7.5938 3.1562-2.7969 8.5625-2.7969 7.4844 0 12 5.2969t4.5156 14.078v2zm17.922 3.7188v-31.203h-8.9844v8.2969q-3.0781-4.9688-7.6719-7.3438t-11.234-2.375q-8.3906 0-13.359 4.7188-4.9531 4.7188-4.9531 12.625 0 9.2188 6.1719 13.906 6.1875 4.6875 18.438 4.6875h12.609v0.89062q0 6.2031-4.0781 9.5938t-11.453 3.3906q-4.6875 0-9.1406-1.125-4.4375-1.125-8.5312-3.375v8.3125q4.9219 1.9062 9.5625 2.8438 4.6406 0.95312 9.0312 0.95312 11.875 0 17.734-6.1562 5.8594-6.1406 5.8594-18.641z\"/><path id=\"DejaVuSans-98\" d=\"m48.688 27.297q0 9.9062-4.0781 15.547t-11.203 5.6406q-7.1406 0-11.219-5.6406t-4.0781-15.547 4.0781-15.547 11.219-5.6406q7.125 0 11.203 5.6406t4.0781 15.547zm-30.578 19.094q2.8438 4.875 7.1562 7.2344 4.3281 2.375 10.328 2.375 9.9688 0 16.188-7.9062 6.2344-7.9062 6.2344-20.797t-6.2344-20.812q-6.2188-7.9062-16.188-7.9062-6 0-10.328 2.375-4.3125 2.375-7.1562 7.25v-8.2031h-9.0312v75.984h9.0312z\"/><path id=\"DejaVuSans-101\" d=\"m56.203 29.594v-4.3906h-41.312q0.59375-9.2812 5.5938-14.141t13.938-4.8594q5.1719 0 10.031 1.2656t9.6562 3.8125v-8.5q-4.8438-2.0469-9.9219-3.125t-10.297-1.0781q-13.094 0-20.734 7.6094-7.6406 7.625-7.6406 20.625 0 13.422 7.25 21.297 7.25 7.8906 19.562 7.8906 11.031 0 17.453-7.1094 6.4219-7.0938 6.4219-19.297zm-8.9844 2.6406q-0.09375 7.3594-4.125 11.75-4.0312 4.4062-10.672 4.4062-7.5156 0-12.031-4.25t-5.2031-11.969z\"/><path id=\"DejaVuSans-108\" d=\"m9.4219 75.984h8.9844v-75.984h-8.9844z\"/><path id=\"DejaVuSans-100\" d=\"m45.406 46.391v29.594h8.9844v-75.984h-8.9844v8.2031q-2.8281-4.875-7.1562-7.25-4.3125-2.375-10.375-2.375-9.9062 0-16.141 7.9062-6.2188 7.9219-6.2188 20.812t6.2188 20.797q6.2344 7.9062 16.141 7.9062 6.0625 0 10.375-2.375 4.3281-2.3594 7.1562-7.2344zm-30.609-19.094q0-9.9062 4.0781-15.547t11.203-5.6406 11.219 5.6406q4.1094 5.6406 4.1094 15.547t-4.1094 15.547q-4.0938 5.6406-11.219 5.6406t-11.203-5.6406-4.0781-15.547z\"/><path id=\"DejaVuSans-58\" d=\"m11.719 12.406h10.297v-12.406h-10.297zm0 39.297h10.297v-12.391h-10.297z\"/><path id=\"DejaVuSans-48\" d=\"m31.781 66.406q-7.6094 0-11.453-7.5-3.8281-7.4844-3.8281-22.531 0-14.984 3.8281-22.484 3.8438-7.5 11.453-7.5 7.6719 0 11.5 7.5 3.8438 7.5 3.8438 22.484 0 15.047-3.8438 22.531-3.8281 7.5-11.5 7.5zm0 7.8125q12.266 0 18.734-9.7031 6.4688-9.6875 6.4688-28.141 0-18.406-6.4688-28.109-6.4688-9.6875-18.734-9.6875-12.25 0-18.719 9.6875-6.4688 9.7031-6.4688 28.109 0 18.453 6.4688 28.141 6.4688 9.7031 18.719 9.7031z\"/></defs><g transform=\"translate(19.123 16.318) scale(.12 -.12)\"><use xlink:href=\"#DejaVuSans-76\"/><use x=\"55.712891\" xlink:href=\"#DejaVuSans-97\"/><use x=\"116.992188\" xlink:href=\"#DejaVuSans-98\"/><use x=\"180.46875\" xlink:href=\"#DejaVuSans-101\"/><use x=\"241.992188\" xlink:href=\"#DejaVuSans-108\"/><use x=\"269.775391\" xlink:href=\"#DejaVuSans-101\"/><use x=\"331.298828\" xlink:href=\"#DejaVuSans-100\"/><use x=\"394.775391\" xlink:href=\"#DejaVuSans-58\"/><use x=\"428.466797\" xlink:href=\"#DejaVuSans-32\"/><use x=\"460.253906\" xlink:href=\"#DejaVuSans-48\"/></g><path d=\"m106.36 102.03h79.714v-79.714h-79.714z\" fill=\"#ffffff\"/><g clip-path=\"url(#p59e78a489b)\"><image transform=\"scale(1 -1)translate(0 -80)\" x=\"106.36\" y=\"-22.032\" width=\"80\" height=\"80\" xlink:href=\"data:image/png;base64, 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\"/></g><path d=\"m106.36 102.03v-79.714\" fill=\"none\" stroke=\"#000000\" stroke-linecap=\"square\" stroke-width=\".8\"/><path d=\"m186.07 102.03v-79.714\" fill=\"none\" stroke=\"#000000\" stroke-linecap=\"square\" stroke-width=\".8\"/><path d=\"m106.36 102.03h79.714\" fill=\"none\" stroke=\"#000000\" stroke-linecap=\"square\" stroke-width=\".8\"/><path d=\"m106.36 22.318h79.714\" fill=\"none\" stroke=\"#000000\" stroke-linecap=\"square\" stroke-width=\".8\"/><g transform=\"translate(114.78 16.318) scale(.12 -.12)\"><use xlink:href=\"#DejaVuSans-76\"/><use x=\"55.712891\" xlink:href=\"#DejaVuSans-97\"/><use x=\"116.992188\" xlink:href=\"#DejaVuSans-98\"/><use x=\"180.46875\" xlink:href=\"#DejaVuSans-101\"/><use x=\"241.992188\" xlink:href=\"#DejaVuSans-108\"/><use x=\"269.775391\" xlink:href=\"#DejaVuSans-101\"/><use x=\"331.298828\" xlink:href=\"#DejaVuSans-100\"/><use x=\"394.775391\" xlink:href=\"#DejaVuSans-58\"/><use x=\"428.466797\" xlink:href=\"#DejaVuSans-32\"/><use x=\"460.253906\" xlink:href=\"#DejaVuSans-48\"/></g><path d=\"m202.01 102.03h79.714v-79.714h-79.714z\" fill=\"#ffffff\"/><g clip-path=\"url(#p65dc99a365)\"><image transform=\"scale(1 -1)translate(0 -80)\" x=\"202.01\" y=\"-22.032\" width=\"80\" height=\"80\" xlink:href=\"data:image/png;base64, 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\"/></g><path d=\"m202.01 102.03v-79.714\" fill=\"none\" stroke=\"#000000\" stroke-linecap=\"square\" stroke-width=\".8\"/><path d=\"m281.73 102.03v-79.714\" fill=\"none\" stroke=\"#000000\" stroke-linecap=\"square\" stroke-width=\".8\"/><path d=\"m202.01 102.03h79.714\" fill=\"none\" stroke=\"#000000\" stroke-linecap=\"square\" stroke-width=\".8\"/><path d=\"m202.01 22.318h79.714\" fill=\"none\" stroke=\"#000000\" stroke-linecap=\"square\" stroke-width=\".8\"/><g transform=\"translate(210.44 16.318) scale(.12 -.12)\"><use xlink:href=\"#DejaVuSans-76\"/><use x=\"55.712891\" xlink:href=\"#DejaVuSans-97\"/><use x=\"116.992188\" xlink:href=\"#DejaVuSans-98\"/><use x=\"180.46875\" xlink:href=\"#DejaVuSans-101\"/><use x=\"241.992188\" xlink:href=\"#DejaVuSans-108\"/><use x=\"269.775391\" xlink:href=\"#DejaVuSans-101\"/><use x=\"331.298828\" xlink:href=\"#DejaVuSans-100\"/><use x=\"394.775391\" xlink:href=\"#DejaVuSans-58\"/><use x=\"428.466797\" xlink:href=\"#DejaVuSans-32\"/><use x=\"460.253906\" xlink:href=\"#DejaVuSans-48\"/></g><path d=\"m297.67 102.03h79.714v-79.714h-79.714z\" fill=\"#ffffff\"/><g clip-path=\"url(#p6cb2ee4b4b)\"><image transform=\"scale(1 -1)translate(0 -80)\" x=\"297.67\" y=\"-22.032\" width=\"80\" height=\"80\" xlink:href=\"data:image/png;base64, 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\"/></g><path d=\"m297.67 102.03v-79.714\" fill=\"none\" stroke=\"#000000\" stroke-linecap=\"square\" stroke-width=\".8\"/><path d=\"m377.39 102.03v-79.714\" fill=\"none\" stroke=\"#000000\" stroke-linecap=\"square\" stroke-width=\".8\"/><path d=\"m297.67 102.03h79.714\" fill=\"none\" stroke=\"#000000\" stroke-linecap=\"square\" stroke-width=\".8\"/><path d=\"m297.67 22.318h79.714\" fill=\"none\" stroke=\"#000000\" stroke-linecap=\"square\" stroke-width=\".8\"/><defs><path id=\"DejaVuSans-49\" d=\"m12.406 8.2969h16.109v55.625l-17.531-3.5156v8.9844l17.438 3.5156h9.8594v-64.609h16.109v-8.2969h-41.984z\"/></defs><g transform=\"translate(306.09 16.318) scale(.12 -.12)\"><use xlink:href=\"#DejaVuSans-76\"/><use x=\"55.712891\" xlink:href=\"#DejaVuSans-97\"/><use x=\"116.992188\" xlink:href=\"#DejaVuSans-98\"/><use x=\"180.46875\" xlink:href=\"#DejaVuSans-101\"/><use x=\"241.992188\" xlink:href=\"#DejaVuSans-108\"/><use x=\"269.775391\" xlink:href=\"#DejaVuSans-101\"/><use x=\"331.298828\" xlink:href=\"#DejaVuSans-100\"/><use x=\"394.775391\" xlink:href=\"#DejaVuSans-58\"/><use x=\"428.466797\" xlink:href=\"#DejaVuSans-32\"/><use x=\"460.253906\" xlink:href=\"#DejaVuSans-49\"/></g><path d=\"m393.33 102.03h79.714v-79.714h-79.714z\" fill=\"#ffffff\"/><g clip-path=\"url(#p3d8db115b8)\"><image transform=\"scale(1 -1)translate(0 -80)\" x=\"393.33\" y=\"-22.032\" width=\"80\" height=\"80\" xlink:href=\"data:image/png;base64, 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\"/></g><path d=\"m393.33 102.03v-79.714\" fill=\"none\" stroke=\"#000000\" stroke-linecap=\"square\" stroke-width=\".8\"/><path d=\"m473.04 102.03v-79.714\" fill=\"none\" stroke=\"#000000\" stroke-linecap=\"square\" stroke-width=\".8\"/><path d=\"m393.33 102.03h79.714\" fill=\"none\" stroke=\"#000000\" stroke-linecap=\"square\" stroke-width=\".8\"/><path d=\"m393.33 22.318h79.714\" fill=\"none\" stroke=\"#000000\" stroke-linecap=\"square\" stroke-width=\".8\"/><g transform=\"translate(401.75 16.318) scale(.12 -.12)\"><use xlink:href=\"#DejaVuSans-76\"/><use x=\"55.712891\" xlink:href=\"#DejaVuSans-97\"/><use x=\"116.992188\" xlink:href=\"#DejaVuSans-98\"/><use x=\"180.46875\" xlink:href=\"#DejaVuSans-101\"/><use x=\"241.992188\" xlink:href=\"#DejaVuSans-108\"/><use x=\"269.775391\" xlink:href=\"#DejaVuSans-101\"/><use x=\"331.298828\" xlink:href=\"#DejaVuSans-100\"/><use x=\"394.775391\" xlink:href=\"#DejaVuSans-58\"/><use x=\"428.466797\" xlink:href=\"#DejaVuSans-32\"/><use x=\"460.253906\" xlink:href=\"#DejaVuSans-48\"/></g><path d=\"m488.99 102.03h79.714v-79.714h-79.714z\" fill=\"#ffffff\"/><g clip-path=\"url(#p29c17b454a)\"><image transform=\"scale(1 -1)translate(0 -80)\" x=\"488.99\" y=\"-22.032\" width=\"80\" height=\"80\" xlink:href=\"data:image/png;base64, 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\"/></g><path d=\"m488.99 102.03v-79.714\" fill=\"none\" stroke=\"#000000\" stroke-linecap=\"square\" stroke-width=\".8\"/><path d=\"m568.7 102.03v-79.714\" fill=\"none\" stroke=\"#000000\" stroke-linecap=\"square\" stroke-width=\".8\"/><path d=\"m488.99 102.03h79.714\" fill=\"none\" stroke=\"#000000\" stroke-linecap=\"square\" stroke-width=\".8\"/><path d=\"m488.99 22.318h79.714\" fill=\"none\" stroke=\"#000000\" stroke-linecap=\"square\" stroke-width=\".8\"/><g transform=\"translate(497.41 16.318) scale(.12 -.12)\"><use xlink:href=\"#DejaVuSans-76\"/><use x=\"55.712891\" xlink:href=\"#DejaVuSans-97\"/><use x=\"116.992188\" xlink:href=\"#DejaVuSans-98\"/><use x=\"180.46875\" xlink:href=\"#DejaVuSans-101\"/><use x=\"241.992188\" xlink:href=\"#DejaVuSans-108\"/><use x=\"269.775391\" xlink:href=\"#DejaVuSans-101\"/><use x=\"331.298828\" xlink:href=\"#DejaVuSans-100\"/><use x=\"394.775391\" xlink:href=\"#DejaVuSans-58\"/><use x=\"428.466797\" xlink:href=\"#DejaVuSans-32\"/><use x=\"460.253906\" xlink:href=\"#DejaVuSans-48\"/></g><defs><clipPath id=\"p25967bea60\"><rect x=\"10.7\" y=\"22.318\" width=\"79.714\" height=\"79.714\"/></clipPath><clipPath id=\"p59e78a489b\"><rect x=\"106.36\" y=\"22.318\" width=\"79.714\" height=\"79.714\"/></clipPath><clipPath id=\"p65dc99a365\"><rect x=\"202.01\" y=\"22.318\" width=\"79.714\" height=\"79.714\"/></clipPath><clipPath id=\"p6cb2ee4b4b\"><rect x=\"297.67\" y=\"22.318\" width=\"79.714\" height=\"79.714\"/></clipPath><clipPath id=\"p3d8db115b8\"><rect x=\"393.33\" y=\"22.318\" width=\"79.714\" height=\"79.714\"/></clipPath><clipPath id=\"p29c17b454a\"><rect x=\"488.99\" y=\"22.318\" width=\"79.714\" height=\"79.714\"/></clipPath></defs></svg>"
            ],
            "text/plain": [
              "<Figure size 720x216 with 6 Axes>"
            ]
          },
          "metadata": {
          },
          "output_type": "display_data"
        }
      ],
      "source": [
        "n_samples_show = 6\n",
        "\n",
        "data_iter = iter(train_loader)\n",
        "fig, axes = plt.subplots(nrows=1, ncols=n_samples_show, figsize=(10, 3))\n",
        "\n",
        "while n_samples_show > 0:\n",
        "    images, targets = data_iter.__next__()\n",
        "\n",
        "    axes[n_samples_show - 1].imshow(images[0].numpy().squeeze(), cmap='gray')\n",
        "    axes[n_samples_show - 1].set_xticks([])\n",
        "    axes[n_samples_show - 1].set_yticks([])\n",
        "    axes[n_samples_show - 1].set_title(\"Labeled: {}\".format(targets.item()))\n",
        "    \n",
        "    n_samples_show -= 1"
      ]
    },
    {
      "cell_type": "markdown",
      "metadata": {
      },
      "source": [
        "#### Datos de evaluación"
      ]
    },
    {
      "cell_type": "code",
      "execution_count": 11,
      "metadata": {
      },
      "outputs": [

      ],
      "source": [
        "n_samples = 50\n",
        "\n",
        "X_test = datasets.MNIST(root='./data', train=False, download=True,\n",
        "                        transform=transforms.Compose([transforms.ToTensor()]))\n",
        "\n",
        "idx = np.append(np.where(X_test.targets == 0)[0][:n_samples], \n",
        "                np.where(X_test.targets == 1)[0][:n_samples])\n",
        "\n",
        "X_test.data = X_test.data[idx]\n",
        "X_test.targets = X_test.targets[idx]\n",
        "\n",
        "test_loader = torch.utils.data.DataLoader(X_test, batch_size=1, shuffle=True)"
      ]
    },
    {
      "cell_type": "markdown",
      "metadata": {
      },
      "source": [
        "Hasta ahora, hemos cargado los datos y codificado una clase que crea nuestro circuito cuántico que contiene 1 parámetro entrenable. Este parámetro cuántico se insertará en una red neuronal clásica junto con los otros parámetros clásicos para formar la red neuronal híbrida. También creamos funciones de propagación hacia atrás y hacia adelante que nos permiten hacer retropropagación y optimizar nuestra red neuronal. Por último, debemos especificar nuestra arquitectura de red neuronal de modo que podamos comenzar a entrenar nuestros parámetros utilizando técnicas de optimización proporcionadas por PyTorch.\n",
        "\n",
        "### 3.5 Creando la Red Neuronal Híbrida <a id=\"hybrid-nn\"></a>\n",
        "\n",
        "Usamos PyTorch para crear una arquitectura de red neuronal. La red deberá ser compatible en términos de su dimensionalidad cuando insertemos la capa cuántica (es decir, nuestro circuito cuántico). Dado que en este ejemplo, nuestro circuito cuántico contiene 1 parámetro, debemos asegurarnos de que la red reduzca las dimensiones de las capas hasta el tamaño 1. Creamos una red neuronal convolucional típica con dos capas completamente conectadas al final. El valor de la última neurona de la capa totalmente conectada se introduce como parámetro $\\theta$ en nuestro circuito cuántico. La medición del circuito luego sirve como la predicción final para 0 o 1 según lo proporcionado por una medición $\\sigma_z$."
      ]
    },
    {
      "cell_type": "code",
      "execution_count": 12,
      "metadata": {
      },
      "outputs": [

      ],
      "source": [
        "class Net(nn.Module):\n",
        "    def __init__(self):\n",
        "        super(Net, self).__init__()\n",
        "        self.conv1 = nn.Conv2d(1, 6, kernel_size=5)\n",
        "        self.conv2 = nn.Conv2d(6, 16, kernel_size=5)\n",
        "        self.dropout = nn.Dropout2d()\n",
        "        self.fc1 = nn.Linear(256, 64)\n",
        "        self.fc2 = nn.Linear(64, 1)\n",
        "        self.hybrid = Hybrid(qiskit.Aer.get_backend('qasm_simulator'), 100, np.pi / 2)\n",
        "\n",
        "    def forward(self, x):\n",
        "        x = F.relu(self.conv1(x))\n",
        "        x = F.max_pool2d(x, 2)\n",
        "        x = F.relu(self.conv2(x))\n",
        "        x = F.max_pool2d(x, 2)\n",
        "        x = self.dropout(x)\n",
        "        x = x.view(1, -1)\n",
        "        x = F.relu(self.fc1(x))\n",
        "        x = self.fc2(x)\n",
        "        x = self.hybrid(x)\n",
        "        return torch.cat((x, 1 - x), -1)\n"
      ]
    },
    {
      "cell_type": "markdown",
      "metadata": {
      },
      "source": [
        "### 3.6 Entrenamiento de la Red <a id=\"training\"></a>\n",
        "\n",
        "¡Ya tenemos todos los ingredientes para entrenar nuestra red híbrida! Podemos especificar cualquier [optimizador de PyTorch](https://pytorch.org/docs/stable/optim.html) , [tasa de aprendizaje](https://en.wikipedia.org/wiki/Learning_rate) y [función de costo/pérdida](https://en.wikipedia.org/wiki/Loss_function) para entrenar en múltiples épocas. En este caso, usamos el optimizador de [Adam](https://arxiv.org/abs/1412.6980) , una tasa de aprendizaje de 0.001 y la [función de pérdida de probabilidad logarítmica negativa](https://pytorch.org/docs/stable/_modules/torch/nn/modules/loss.html) ."
      ]
    },
    {
      "cell_type": "code",
      "execution_count": 13,
      "metadata": {
      },
      "outputs": [
        {
          "name": "stdout",
          "output_type": "stream",
          "text": [
            "Entrenando [5%]\t        Pérdida: -0.7754\n",
            "Entrenando [10%]\tPérdida: -0.9334\n",
            "Entrenando [15%]\tPérdida: -0.9262\n",
            "Entrenando [20%]\tPérdida: -0.9452\n",
            "Entrenando [25%]\tPérdida: -0.9504\n",
            "Entrenando [30%]\tPérdida: -0.9527\n",
            "Entrenando [35%]\tPérdida: -0.9542\n",
            "Entrenando [40%]\tPérdida: -0.9645\n",
            "Entrenando [45%]\tPérdida: -0.9627\n",
            "Entrenando [50%]\tPérdida: -0.9738\n",
            "Entrenando [55%]\tPérdida: -0.9745\n",
            "Entrenando [60%]\tPérdida: -0.9783\n",
            "Entrenando [65%]\tPérdida: -0.9772\n",
            "Entrenando [70%]\tPérdida: -0.9828\n",
            "Entrenando [75%]\tPérdida: -0.9861\n",
            "Entrenando [80%]\tPérdida: -0.9876\n",
            "Entrenando [85%]\tPérdida: -0.9840\n",
            "Entrenando [90%]\tPérdida: -0.9900\n",
            "Entrenando [95%]\tPérdida: -0.9902\n",
            "Entrenando [100%]\tPérdida: -0.9902\n"
          ]
        }
      ],
      "source": [
        "model = Net()\n",
        "optimizer = optim.Adam(model.parameters(), lr=0.001)\n",
        "loss_func = nn.NLLLoss()\n",
        "\n",
        "epochs = 20\n",
        "loss_list = []\n",
        "\n",
        "model.train()\n",
        "for epoch in range(epochs):\n",
        "    total_loss = []\n",
        "    for batch_idx, (data, target) in enumerate(train_loader):\n",
        "        optimizer.zero_grad()\n",
        "        # Propagación hacia delante\n",
        "        output = model(data)\n",
        "        # Calcular la pérdida\n",
        "        loss = loss_func(output, target)\n",
        "        # Propagación hacia atrás\n",
        "        loss.backward()\n",
        "        # Optimización de los pesos\n",
        "        optimizer.step()\n",
        "        \n",
        "        total_loss.append(loss.item())\n",
        "    loss_list.append(sum(total_loss)/len(total_loss))\n",
        "    print('Entrenando [{:.0f}%]\\tPérdida: {:.4f}'.format(\n",
        "        100. * (epoch + 1) / epochs, loss_list[-1]))"
      ]
    },
    {
      "cell_type": "markdown",
      "metadata": {
      },
      "source": [
        "Muestra el gráfico de entrenamiento"
      ]
    },
    {
      "cell_type": "code",
      "execution_count": 14,
      "metadata": {
      },
      "outputs": [
        {
          "data": {
            "text/plain": [
              "Text(0, 0.5, 'Neg Log Likelihood Loss')"
            ]
          },
          "execution_count": 14,
          "metadata": {
          },
          "output_type": "execute_result"
        },
        {
          "data": {
            "image/svg+xml": [
              "<?xml version=\"1.0\" encoding=\"UTF-8\"?><!DOCTYPE svg  PUBLIC '-//W3C//DTD SVG 1.1//EN'  'http://www.w3.org/Graphics/SVG/1.1/DTD/svg11.dtd'><svg width=\"400.52pt\" height=\"277.31pt\" version=\"1.1\" viewBox=\"0 0 400.52 277.31\" xmlns=\"http://www.w3.org/2000/svg\" xmlns:xlink=\"http://www.w3.org/1999/xlink\"><defs><style type=\"text/css\">*{stroke-linecap:butt;stroke-linejoin:round;}</style></defs><path d=\"m0 277.31h400.52v-277.31h-400.52z\" fill=\"none\"/><path d=\"m58.523 239.76h334.8v-217.44h-334.8z\" fill=\"#ffffff\"/><defs><path id=\"m31875140b9\" d=\"m0 0v3.5\" stroke=\"#000000\" stroke-width=\".8\"/></defs><use x=\"73.741619\" y=\"239.758125\" stroke=\"#000000\" stroke-width=\".8\" xlink:href=\"#m31875140b9\"/><defs><path id=\"DejaVuSans-48\" d=\"m31.781 66.406q-7.6094 0-11.453-7.5-3.8281-7.4844-3.8281-22.531 0-14.984 3.8281-22.484 3.8438-7.5 11.453-7.5 7.6719 0 11.5 7.5 3.8438 7.5 3.8438 22.484 0 15.047-3.8438 22.531-3.8281 7.5-11.5 7.5zm0 7.8125q12.266 0 18.734-9.7031 6.4688-9.6875 6.4688-28.141 0-18.406-6.4688-28.109-6.4688-9.6875-18.734-9.6875-12.25 0-18.719 9.6875-6.4688 9.7031-6.4688 28.109 0 18.453 6.4688 28.141 6.4688 9.7031 18.719 9.7031z\"/><path id=\"DejaVuSans-46\" d=\"m10.688 12.406h10.312v-12.406h-10.312z\"/></defs><g transform=\"translate(65.79 254.36) scale(.1 -.1)\"><use xlink:href=\"#DejaVuSans-48\"/><use x=\"63.623047\" xlink:href=\"#DejaVuSans-46\"/><use x=\"95.410156\" xlink:href=\"#DejaVuSans-48\"/></g><use x=\"113.789466\" y=\"239.758125\" stroke=\"#000000\" stroke-width=\".8\" xlink:href=\"#m31875140b9\"/><defs><path id=\"DejaVuSans-50\" d=\"m19.188 8.2969h34.422v-8.2969h-46.281v8.2969q5.6094 5.8125 15.297 15.594 9.7031 9.7969 12.188 12.641 4.7344 5.3125 6.6094 9 1.8906 3.6875 1.8906 7.25 0 5.8125-4.0781 9.4688-4.0781 3.6719-10.625 3.6719-4.6406 0-9.7969-1.6094-5.1406-1.6094-11-4.8906v9.9688q5.9531 2.3906 11.125 3.6094 5.1875 1.2188 9.4844 1.2188 11.328 0 18.062-5.6719 6.7344-5.6562 6.7344-15.125 0-4.5-1.6875-8.5312-1.6719-4.0156-6.125-9.4844-1.2188-1.4219-7.7656-8.1875-6.5312-6.7656-18.453-18.922z\"/><path id=\"DejaVuSans-53\" d=\"m10.797 72.906h38.719v-8.3125h-29.688v-17.859q2.1406 0.73438 4.2812 1.0938 2.1562 0.35938 4.3125 0.35938 12.203 0 19.328-6.6875 7.1406-6.6875 7.1406-18.109 0-11.766-7.3281-18.297-7.3281-6.5156-20.656-6.5156-4.5938 0-9.3594 0.78125-4.75 0.78125-9.8281 2.3438v9.9219q4.3906-2.3906 9.0781-3.5625t9.9062-1.1719q8.4531 0 13.375 4.4375 4.9375 4.4375 4.9375 12.062 0 7.6094-4.9375 12.047-4.9219 4.4531-13.375 4.4531-3.9531 0-7.8906-0.875-3.9219-0.875-8.0156-2.7344z\"/></defs><g transform=\"translate(105.84 254.36) scale(.1 -.1)\"><use xlink:href=\"#DejaVuSans-50\"/><use x=\"63.623047\" xlink:href=\"#DejaVuSans-46\"/><use x=\"95.410156\" xlink:href=\"#DejaVuSans-53\"/></g><use x=\"153.837313\" y=\"239.758125\" stroke=\"#000000\" stroke-width=\".8\" xlink:href=\"#m31875140b9\"/><g transform=\"translate(145.89 254.36) scale(.1 -.1)\"><use xlink:href=\"#DejaVuSans-53\"/><use x=\"63.623047\" xlink:href=\"#DejaVuSans-46\"/><use x=\"95.410156\" xlink:href=\"#DejaVuSans-48\"/></g><use x=\"193.88516\" y=\"239.758125\" stroke=\"#000000\" stroke-width=\".8\" xlink:href=\"#m31875140b9\"/><defs><path id=\"DejaVuSans-55\" d=\"m8.2031 72.906h46.875v-4.2031l-26.469-68.703h-10.297l24.906 64.594h-35.016z\"/></defs><g transform=\"translate(185.93 254.36) scale(.1 -.1)\"><use xlink:href=\"#DejaVuSans-55\"/><use x=\"63.623047\" xlink:href=\"#DejaVuSans-46\"/><use x=\"95.410156\" xlink:href=\"#DejaVuSans-53\"/></g><use x=\"233.933007\" y=\"239.758125\" stroke=\"#000000\" stroke-width=\".8\" xlink:href=\"#m31875140b9\"/><defs><path id=\"DejaVuSans-49\" d=\"m12.406 8.2969h16.109v55.625l-17.531-3.5156v8.9844l17.438 3.5156h9.8594v-64.609h16.109v-8.2969h-41.984z\"/></defs><g transform=\"translate(222.8 254.36) scale(.1 -.1)\"><use xlink:href=\"#DejaVuSans-49\"/><use x=\"63.623047\" xlink:href=\"#DejaVuSans-48\"/><use x=\"127.246094\" xlink:href=\"#DejaVuSans-46\"/><use x=\"159.033203\" xlink:href=\"#DejaVuSans-48\"/></g><use x=\"273.980854\" y=\"239.758125\" stroke=\"#000000\" stroke-width=\".8\" xlink:href=\"#m31875140b9\"/><g transform=\"translate(262.85 254.36) scale(.1 -.1)\"><use xlink:href=\"#DejaVuSans-49\"/><use x=\"63.623047\" xlink:href=\"#DejaVuSans-50\"/><use x=\"127.246094\" xlink:href=\"#DejaVuSans-46\"/><use x=\"159.033203\" xlink:href=\"#DejaVuSans-53\"/></g><use x=\"314.028701\" y=\"239.758125\" stroke=\"#000000\" stroke-width=\".8\" xlink:href=\"#m31875140b9\"/><g transform=\"translate(302.9 254.36) scale(.1 -.1)\"><use xlink:href=\"#DejaVuSans-49\"/><use x=\"63.623047\" xlink:href=\"#DejaVuSans-53\"/><use x=\"127.246094\" xlink:href=\"#DejaVuSans-46\"/><use x=\"159.033203\" xlink:href=\"#DejaVuSans-48\"/></g><use x=\"354.076548\" y=\"239.758125\" stroke=\"#000000\" stroke-width=\".8\" xlink:href=\"#m31875140b9\"/><g transform=\"translate(342.94 254.36) scale(.1 -.1)\"><use xlink:href=\"#DejaVuSans-49\"/><use x=\"63.623047\" xlink:href=\"#DejaVuSans-55\"/><use x=\"127.246094\" xlink:href=\"#DejaVuSans-46\"/><use x=\"159.033203\" xlink:href=\"#DejaVuSans-53\"/></g><defs><path id=\"DejaVuSans-84\" d=\"m-0.29688 72.906h61.672v-8.3125h-25.875v-64.594h-9.9062v64.594h-25.891z\"/><path id=\"DejaVuSans-114\" d=\"m41.109 46.297q-1.5156 0.875-3.2969 1.2812-1.7812 0.42188-3.9219 0.42188-7.625 0-11.703-4.9531t-4.0781-14.234v-28.812h-9.0312v54.688h9.0312v-8.5q2.8438 4.9844 7.375 7.3906 4.5469 2.4219 11.047 2.4219 0.92188 0 2.0469-0.125 1.125-0.10938 2.4844-0.35938z\"/><path id=\"DejaVuSans-97\" d=\"m34.281 27.484q-10.891 0-15.094-2.4844t-4.2031-8.5q0-4.7812 3.1562-7.5938 3.1562-2.7969 8.5625-2.7969 7.4844 0 12 5.2969t4.5156 14.078v2zm17.922 3.7188v-31.203h-8.9844v8.2969q-3.0781-4.9688-7.6719-7.3438t-11.234-2.375q-8.3906 0-13.359 4.7188-4.9531 4.7188-4.9531 12.625 0 9.2188 6.1719 13.906 6.1875 4.6875 18.438 4.6875h12.609v0.89062q0 6.2031-4.0781 9.5938t-11.453 3.3906q-4.6875 0-9.1406-1.125-4.4375-1.125-8.5312-3.375v8.3125q4.9219 1.9062 9.5625 2.8438 4.6406 0.95312 9.0312 0.95312 11.875 0 17.734-6.1562 5.8594-6.1406 5.8594-18.641z\"/><path id=\"DejaVuSans-105\" d=\"m9.4219 54.688h8.9844v-54.688h-8.9844zm0 21.297h8.9844v-11.391h-8.9844z\"/><path id=\"DejaVuSans-110\" d=\"m54.891 33.016v-33.016h-8.9844v32.719q0 7.7656-3.0312 11.609-3.0312 3.8594-9.0781 3.8594-7.2812 0-11.484-4.6406-4.2031-4.625-4.2031-12.641v-30.906h-9.0312v54.688h9.0312v-8.5q3.2344 4.9375 7.5938 7.375 4.375 2.4375 10.094 2.4375 9.4219 0 14.25-5.8281 4.8438-5.8281 4.8438-17.156z\"/><path id=\"DejaVuSans-103\" d=\"m45.406 27.984q0 9.7656-4.0312 15.125-4.0156 5.375-11.297 5.375-7.2188 0-11.25-5.375-4.0312-5.3594-4.0312-15.125 0-9.7188 4.0312-15.094t11.25-5.375q7.2812 0 11.297 5.375 4.0312 5.375 4.0312 15.094zm8.9844-21.203q0-13.953-6.2031-20.766-6.1875-6.8125-18.984-6.8125-4.7344 0-8.9375 0.70312t-8.1562 2.1719v8.7344q3.9531-2.1406 7.8125-3.1562 3.8594-1.0312 7.8594-1.0312 8.8438 0 13.234 4.6094t4.3906 13.938v4.4531q-2.7812-4.8438-7.125-7.2344t-10.406-2.3906q-10.047 0-16.203 7.6562-6.1562 7.6719-6.1562 20.328 0 12.688 6.1562 20.344 6.1562 7.6719 16.203 7.6719 6.0625 0 10.406-2.3906t7.125-7.2188v8.2969h8.9844z\"/><path id=\"DejaVuSans-73\" d=\"m9.8125 72.906h9.8594v-72.906h-9.8594z\"/><path id=\"DejaVuSans-116\" d=\"m18.312 70.219v-15.531h18.5v-6.9844h-18.5v-29.688q0-6.6875 1.8281-8.5938t7.4531-1.9062h9.2188v-7.5156h-9.2188q-10.406 0-14.359 3.875-3.9531 3.8906-3.9531 14.141v29.688h-6.5938v6.9844h6.5938v15.531z\"/><path id=\"DejaVuSans-101\" d=\"m56.203 29.594v-4.3906h-41.312q0.59375-9.2812 5.5938-14.141t13.938-4.8594q5.1719 0 10.031 1.2656t9.6562 3.8125v-8.5q-4.8438-2.0469-9.9219-3.125t-10.297-1.0781q-13.094 0-20.734 7.6094-7.6406 7.625-7.6406 20.625 0 13.422 7.25 21.297 7.25 7.8906 19.562 7.8906 11.031 0 17.453-7.1094 6.4219-7.0938 6.4219-19.297zm-8.9844 2.6406q-0.09375 7.3594-4.125 11.75-4.0312 4.4062-10.672 4.4062-7.5156 0-12.031-4.25t-5.2031-11.969z\"/><path id=\"DejaVuSans-111\" d=\"m30.609 48.391q-7.2188 0-11.422-5.6406t-4.2031-15.453 4.1719-15.453q4.1875-5.6406 11.453-5.6406 7.1875 0 11.375 5.6562 4.2031 5.6719 4.2031 15.438 0 9.7188-4.2031 15.406-4.1875 5.6875-11.375 5.6875zm0 7.6094q11.719 0 18.406-7.625 6.7031-7.6094 6.7031-21.078 0-13.422-6.7031-21.078-6.6875-7.6406-18.406-7.6406-11.766 0-18.438 7.6406-6.6562 7.6562-6.6562 21.078 0 13.469 6.6562 21.078 6.6719 7.625 18.438 7.625z\"/><path id=\"DejaVuSans-115\" d=\"m44.281 53.078v-8.5q-3.7969 1.9531-7.9062 2.9219-4.0938 0.98438-8.5 0.98438-6.6875 0-10.031-2.0469t-3.3438-6.1562q0-3.125 2.3906-4.9062t9.625-3.3906l3.0781-0.6875q9.5625-2.0469 13.594-5.7812t4.0312-10.422q0-7.625-6.0312-12.078-6.0312-4.4375-16.578-4.4375-4.3906 0-9.1562 0.85938t-10.031 2.5625v9.2812q4.9844-2.5938 9.8125-3.8906 4.8281-1.2812 9.5781-1.2812 6.3438 0 9.75 2.1719 3.4219 2.1719 3.4219 6.125 0 3.6562-2.4688 5.6094-2.4531 1.9531-10.812 3.7656l-3.125 0.73438q-8.3438 1.75-12.062 5.3906-3.7031 3.6406-3.7031 9.9844 0 7.7188 5.4688 11.906 5.4688 4.2031 15.531 4.2031 4.9688 0 9.3594-0.73438 4.4062-0.71875 8.1094-2.1875z\"/></defs><g transform=\"translate(180.8 268.03) scale(.1 -.1)\"><use xlink:href=\"#DejaVuSans-84\"/><use x=\"46.333984\" xlink:href=\"#DejaVuSans-114\"/><use x=\"87.447266\" xlink:href=\"#DejaVuSans-97\"/><use x=\"148.726562\" xlink:href=\"#DejaVuSans-105\"/><use x=\"176.509766\" xlink:href=\"#DejaVuSans-110\"/><use x=\"239.888672\" xlink:href=\"#DejaVuSans-105\"/><use x=\"267.671875\" xlink:href=\"#DejaVuSans-110\"/><use x=\"331.050781\" xlink:href=\"#DejaVuSans-103\"/><use x=\"394.527344\" xlink:href=\"#DejaVuSans-32\"/><use x=\"426.314453\" xlink:href=\"#DejaVuSans-73\"/><use x=\"455.806641\" xlink:href=\"#DejaVuSans-116\"/><use x=\"495.015625\" xlink:href=\"#DejaVuSans-101\"/><use x=\"556.539062\" xlink:href=\"#DejaVuSans-114\"/><use x=\"597.652344\" xlink:href=\"#DejaVuSans-97\"/><use x=\"658.931641\" xlink:href=\"#DejaVuSans-116\"/><use x=\"698.140625\" xlink:href=\"#DejaVuSans-105\"/><use x=\"725.923828\" xlink:href=\"#DejaVuSans-111\"/><use x=\"787.105469\" xlink:href=\"#DejaVuSans-110\"/><use x=\"850.484375\" xlink:href=\"#DejaVuSans-115\"/></g><defs><path id=\"mdd4931c37f\" d=\"m0 0h-3.5\" stroke=\"#000000\" stroke-width=\".8\"/></defs><use x=\"58.523438\" y=\"238.893077\" stroke=\"#000000\" stroke-width=\".8\" xlink:href=\"#mdd4931c37f\"/><defs><path id=\"DejaVuSans-8722\" d=\"m10.594 35.5h62.594v-8.2969h-62.594z\"/></defs><g transform=\"translate(20.878 242.69) scale(.1 -.1)\"><use xlink:href=\"#DejaVuSans-8722\"/><use x=\"83.789062\" xlink:href=\"#DejaVuSans-49\"/><use x=\"147.412109\" xlink:href=\"#DejaVuSans-46\"/><use x=\"179.199219\" xlink:href=\"#DejaVuSans-48\"/><use x=\"242.822266\" xlink:href=\"#DejaVuSans-48\"/></g><use x=\"58.523438\" y=\"192.879872\" stroke=\"#000000\" stroke-width=\".8\" xlink:href=\"#mdd4931c37f\"/><defs><path id=\"DejaVuSans-57\" d=\"m10.984 1.5156v8.9844q3.7188-1.7656 7.5156-2.6875 3.8125-0.92188 7.4844-0.92188 9.7656 0 14.906 6.5625 5.1562 6.5625 5.8906 19.953-2.8281-4.2031-7.1875-6.4531-4.3438-2.25-9.6094-2.25-10.938 0-17.312 6.6094-6.375 6.625-6.375 18.109 0 11.219 6.6406 18 6.6406 6.7969 17.672 6.7969 12.656 0 19.312-9.7031 6.6719-9.6875 6.6719-28.141 0-17.234-8.1875-27.516-8.1719-10.281-21.984-10.281-3.7188 0-7.5312 0.73438-3.7969 0.73438-7.9062 2.2031zm19.625 30.906q6.6406 0 10.516 4.5312 3.8906 4.5469 3.8906 12.469 0 7.8594-3.8906 12.422-3.875 4.5625-10.516 4.5625t-10.516-4.5625-3.875-12.422q0-7.9219 3.875-12.469 3.875-4.5312 10.516-4.5312z\"/></defs><g transform=\"translate(20.878 196.68) scale(.1 -.1)\"><use xlink:href=\"#DejaVuSans-8722\"/><use x=\"83.789062\" xlink:href=\"#DejaVuSans-48\"/><use x=\"147.412109\" xlink:href=\"#DejaVuSans-46\"/><use x=\"179.199219\" xlink:href=\"#DejaVuSans-57\"/><use x=\"242.822266\" xlink:href=\"#DejaVuSans-53\"/></g><use x=\"58.523438\" y=\"146.866667\" stroke=\"#000000\" stroke-width=\".8\" xlink:href=\"#mdd4931c37f\"/><g transform=\"translate(20.878 150.67) scale(.1 -.1)\"><use xlink:href=\"#DejaVuSans-8722\"/><use x=\"83.789062\" xlink:href=\"#DejaVuSans-48\"/><use x=\"147.412109\" xlink:href=\"#DejaVuSans-46\"/><use x=\"179.199219\" xlink:href=\"#DejaVuSans-57\"/><use x=\"242.822266\" xlink:href=\"#DejaVuSans-48\"/></g><use x=\"58.523438\" y=\"100.853463\" stroke=\"#000000\" stroke-width=\".8\" xlink:href=\"#mdd4931c37f\"/><defs><path id=\"DejaVuSans-56\" d=\"m31.781 34.625q-7.0312 0-11.062-3.7656-4.0156-3.7656-4.0156-10.344 0-6.5938 4.0156-10.359 4.0312-3.7656 11.062-3.7656t11.078 3.7812q4.0625 3.7969 4.0625 10.344 0 6.5781-4.0312 10.344-4.0156 3.7656-11.109 3.7656zm-9.8594 4.1875q-6.3438 1.5625-9.8906 5.9062-3.5312 4.3594-3.5312 10.609 0 8.7344 6.2188 13.812 6.2344 5.0781 17.062 5.0781 10.891 0 17.094-5.0781t6.2031-13.812q0-6.25-3.5469-10.609-3.5312-4.3438-9.8281-5.9062 7.125-1.6562 11.094-6.5 3.9844-4.8281 3.9844-11.797 0-10.609-6.4688-16.281-6.4688-5.6562-18.531-5.6562-12.047 0-18.531 5.6562-6.4688 5.6719-6.4688 16.281 0 6.9688 4 11.797 4.0156 4.8438 11.141 6.5zm-3.6094 15.578q0-5.6562 3.5312-8.8281 3.5469-3.1719 9.9375-3.1719 6.3594 0 9.9375 3.1719 3.5938 3.1719 3.5938 8.8281 0 5.6719-3.5938 8.8438-3.5781 3.1719-9.9375 3.1719-6.3906 0-9.9375-3.1719-3.5312-3.1719-3.5312-8.8438z\"/></defs><g transform=\"translate(20.878 104.65) scale(.1 -.1)\"><use xlink:href=\"#DejaVuSans-8722\"/><use x=\"83.789062\" xlink:href=\"#DejaVuSans-48\"/><use x=\"147.412109\" xlink:href=\"#DejaVuSans-46\"/><use x=\"179.199219\" xlink:href=\"#DejaVuSans-56\"/><use x=\"242.822266\" xlink:href=\"#DejaVuSans-53\"/></g><use x=\"58.523438\" y=\"54.840258\" stroke=\"#000000\" stroke-width=\".8\" xlink:href=\"#mdd4931c37f\"/><g transform=\"translate(20.878 58.639) scale(.1 -.1)\"><use xlink:href=\"#DejaVuSans-8722\"/><use x=\"83.789062\" xlink:href=\"#DejaVuSans-48\"/><use x=\"147.412109\" xlink:href=\"#DejaVuSans-46\"/><use x=\"179.199219\" xlink:href=\"#DejaVuSans-56\"/><use x=\"242.822266\" xlink:href=\"#DejaVuSans-48\"/></g><defs><path id=\"DejaVuSans-78\" d=\"m9.8125 72.906h13.281l32.328-60.984v60.984h9.5625v-72.906h-13.281l-32.312 60.984v-60.984h-9.5781z\"/><path id=\"DejaVuSans-76\" d=\"m9.8125 72.906h9.8594v-64.609h35.5v-8.2969h-45.359z\"/><path id=\"DejaVuSans-107\" d=\"m9.0781 75.984h9.0312v-44.875l26.812 23.578h11.469l-29-25.578 30.234-29.109h-11.719l-27.797 26.703v-26.703h-9.0312z\"/><path id=\"DejaVuSans-108\" d=\"m9.4219 75.984h8.9844v-75.984h-8.9844z\"/><path id=\"DejaVuSans-104\" d=\"m54.891 33.016v-33.016h-8.9844v32.719q0 7.7656-3.0312 11.609-3.0312 3.8594-9.0781 3.8594-7.2812 0-11.484-4.6406-4.2031-4.625-4.2031-12.641v-30.906h-9.0312v75.984h9.0312v-29.797q3.2344 4.9375 7.5938 7.375 4.375 2.4375 10.094 2.4375 9.4219 0 14.25-5.8281 4.8438-5.8281 4.8438-17.156z\"/><path id=\"DejaVuSans-100\" d=\"m45.406 46.391v29.594h8.9844v-75.984h-8.9844v8.2031q-2.8281-4.875-7.1562-7.25-4.3125-2.375-10.375-2.375-9.9062 0-16.141 7.9062-6.2188 7.9219-6.2188 20.812t6.2188 20.797q6.2344 7.9062 16.141 7.9062 6.0625 0 10.375-2.375 4.3281-2.3594 7.1562-7.2344zm-30.609-19.094q0-9.9062 4.0781-15.547t11.203-5.6406 11.219 5.6406q4.1094 5.6406 4.1094 15.547t-4.1094 15.547q-4.0938 5.6406-11.219 5.6406t-11.203-5.6406-4.0781-15.547z\"/></defs><g transform=\"translate(14.798 190.9) rotate(-90) scale(.1 -.1)\"><use xlink:href=\"#DejaVuSans-78\"/><use x=\"74.804688\" xlink:href=\"#DejaVuSans-101\"/><use x=\"136.328125\" xlink:href=\"#DejaVuSans-103\"/><use x=\"199.804688\" xlink:href=\"#DejaVuSans-32\"/><use x=\"231.591797\" xlink:href=\"#DejaVuSans-76\"/><use x=\"285.554688\" xlink:href=\"#DejaVuSans-111\"/><use x=\"346.736328\" xlink:href=\"#DejaVuSans-103\"/><use x=\"410.212891\" xlink:href=\"#DejaVuSans-32\"/><use x=\"442\" xlink:href=\"#DejaVuSans-76\"/><use x=\"497.712891\" xlink:href=\"#DejaVuSans-105\"/><use x=\"525.496094\" xlink:href=\"#DejaVuSans-107\"/><use x=\"579.78125\" xlink:href=\"#DejaVuSans-101\"/><use x=\"641.304688\" xlink:href=\"#DejaVuSans-108\"/><use x=\"669.087891\" xlink:href=\"#DejaVuSans-105\"/><use x=\"696.871094\" xlink:href=\"#DejaVuSans-104\"/><use x=\"760.25\" xlink:href=\"#DejaVuSans-111\"/><use x=\"821.431641\" xlink:href=\"#DejaVuSans-111\"/><use x=\"882.613281\" xlink:href=\"#DejaVuSans-100\"/><use x=\"946.089844\" xlink:href=\"#DejaVuSans-32\"/><use x=\"977.876953\" xlink:href=\"#DejaVuSans-76\"/><use x=\"1031.839844\" xlink:href=\"#DejaVuSans-111\"/><use x=\"1093.021484\" xlink:href=\"#DejaVuSans-115\"/><use x=\"1145.121094\" xlink:href=\"#DejaVuSans-115\"/></g><path d=\"m73.742 32.202 16.019 145.4 16.019-6.6259 16.019 17.485 16.019 4.7394 16.019 2.1166 16.019 1.4264 16.019 9.4787 16.019-1.6565 16.019 10.169 16.019 0.73621 16.019 3.497 16.019-1.0583 16.019 5.1535 16.019 3.0369 16.019 1.3344 16.019-3.2669 16.019 5.5676 16.019 0.092026 16.019 0.046014\" clip-path=\"url(#pdbe478a836)\" fill=\"none\" stroke=\"#1f77b4\" stroke-linecap=\"square\" stroke-width=\"1.5\"/><path d=\"m58.523 239.76v-217.44\" fill=\"none\" stroke=\"#000000\" stroke-linecap=\"square\" stroke-width=\".8\"/><path d=\"m393.32 239.76v-217.44\" fill=\"none\" stroke=\"#000000\" stroke-linecap=\"square\" stroke-width=\".8\"/><path d=\"m58.523 239.76h334.8\" fill=\"none\" stroke=\"#000000\" stroke-linecap=\"square\" stroke-width=\".8\"/><path d=\"m58.523 22.318h334.8\" fill=\"none\" stroke=\"#000000\" stroke-linecap=\"square\" stroke-width=\".8\"/><defs><path id=\"DejaVuSans-72\" d=\"m9.8125 72.906h9.8594v-29.891h35.844v29.891h9.8594v-72.906h-9.8594v34.719h-35.844v-34.719h-9.8594z\"/><path id=\"DejaVuSans-121\" d=\"m32.172-5.0781q-3.7969-9.7656-7.4219-12.734-3.6094-2.9844-9.6562-2.9844h-7.1875v7.5156h5.2812q3.7031 0 5.75 1.7656 2.0625 1.75 4.5469 8.2969l1.6094 4.0938-22.109 53.812h9.5156l17.094-42.766 17.094 42.766h9.5156z\"/><path id=\"DejaVuSans-98\" d=\"m48.688 27.297q0 9.9062-4.0781 15.547t-11.203 5.6406q-7.1406 0-11.219-5.6406t-4.0781-15.547 4.0781-15.547 11.219-5.6406q7.125 0 11.203 5.6406t4.0781 15.547zm-30.578 19.094q2.8438 4.875 7.1562 7.2344 4.3281 2.375 10.328 2.375 9.9688 0 16.188-7.9062 6.2344-7.9062 6.2344-20.797t-6.2344-20.812q-6.2188-7.9062-16.188-7.9062-6 0-10.328 2.375-4.3125 2.375-7.1562 7.25v-8.2031h-9.0312v75.984h9.0312z\"/><path id=\"DejaVuSans-67\" d=\"m64.406 67.281v-10.391q-4.9844 4.6406-10.625 6.9219-5.6406 2.2969-11.984 2.2969-12.5 0-19.141-7.6406t-6.6406-22.094q0-14.406 6.6406-22.047t19.141-7.6406q6.3438 0 11.984 2.2969t10.625 6.9375v-10.312q-5.1719-3.5156-10.969-5.2812-5.7812-1.75-12.219-1.75-16.562 0-26.094 10.125-9.5156 10.141-9.5156 27.672 0 17.578 9.5156 27.703 9.5312 10.141 26.094 10.141 6.5312 0 12.312-1.7344 5.7969-1.7344 10.875-5.2031z\"/><path id=\"DejaVuSans-118\" d=\"m2.9844 54.688h9.5156l17.094-45.891 17.094 45.891h9.5156l-20.516-54.688h-12.203z\"/><path id=\"DejaVuSans-99\" d=\"m48.781 52.594v-8.4062q-3.8125 2.1094-7.6406 3.1562t-7.7344 1.0469q-8.75 0-13.594-5.5469-4.8281-5.5312-4.8281-15.547t4.8281-15.562q4.8438-5.5312 13.594-5.5312 3.9062 0 7.7344 1.0469t7.6406 3.1562v-8.3125q-3.7656-1.75-7.7969-2.625-4.0156-0.89062-8.5625-0.89062-12.359 0-19.641 7.7656-7.2656 7.7656-7.2656 20.953 0 13.375 7.3438 21.031 7.3594 7.6719 20.156 7.6719 4.1406 0 8.0938-0.85938 3.9531-0.84375 7.6719-2.5469z\"/></defs><g transform=\"translate(128.18 16.318) scale(.12 -.12)\"><use xlink:href=\"#DejaVuSans-72\"/><use x=\"75.195312\" xlink:href=\"#DejaVuSans-121\"/><use x=\"134.375\" xlink:href=\"#DejaVuSans-98\"/><use x=\"197.851562\" xlink:href=\"#DejaVuSans-114\"/><use x=\"238.964844\" xlink:href=\"#DejaVuSans-105\"/><use x=\"266.748047\" xlink:href=\"#DejaVuSans-100\"/><use x=\"330.224609\" xlink:href=\"#DejaVuSans-32\"/><use x=\"362.011719\" xlink:href=\"#DejaVuSans-78\"/><use x=\"436.816406\" xlink:href=\"#DejaVuSans-78\"/><use x=\"511.621094\" xlink:href=\"#DejaVuSans-32\"/><use x=\"543.408203\" xlink:href=\"#DejaVuSans-84\"/><use x=\"589.742188\" xlink:href=\"#DejaVuSans-114\"/><use x=\"630.855469\" xlink:href=\"#DejaVuSans-97\"/><use x=\"692.134766\" xlink:href=\"#DejaVuSans-105\"/><use x=\"719.917969\" xlink:href=\"#DejaVuSans-110\"/><use x=\"783.296875\" xlink:href=\"#DejaVuSans-105\"/><use x=\"811.080078\" xlink:href=\"#DejaVuSans-110\"/><use x=\"874.458984\" xlink:href=\"#DejaVuSans-103\"/><use x=\"937.935547\" xlink:href=\"#DejaVuSans-32\"/><use x=\"969.722656\" xlink:href=\"#DejaVuSans-67\"/><use x=\"1039.546875\" xlink:href=\"#DejaVuSans-111\"/><use x=\"1100.728516\" xlink:href=\"#DejaVuSans-110\"/><use x=\"1164.107422\" xlink:href=\"#DejaVuSans-118\"/><use x=\"1223.287109\" xlink:href=\"#DejaVuSans-101\"/><use x=\"1284.810547\" xlink:href=\"#DejaVuSans-114\"/><use x=\"1324.173828\" xlink:href=\"#DejaVuSans-103\"/><use x=\"1387.650391\" xlink:href=\"#DejaVuSans-101\"/><use x=\"1449.173828\" xlink:href=\"#DejaVuSans-110\"/><use x=\"1512.552734\" xlink:href=\"#DejaVuSans-99\"/><use x=\"1567.533203\" xlink:href=\"#DejaVuSans-101\"/></g><defs><clipPath id=\"pdbe478a836\"><rect x=\"58.523\" y=\"22.318\" width=\"334.8\" height=\"217.44\"/></clipPath></defs></svg>"
            ],
            "text/plain": [
              "<Figure size 432x288 with 1 Axes>"
            ]
          },
          "metadata": {
            "needs_background": "light"
          },
          "output_type": "display_data"
        }
      ],
      "source": [
        "plt.plot(loss_list)\n",
        "plt.title('Convergencia durante entrenamiento de una Red Nueronal Híbrida')\n",
        "plt.xlabel('Número de entrenamientos')\n",
        "plt.ylabel('Pérdida de Probabilidad Logarítmica Negativa')"
      ]
    },
    {
      "cell_type": "markdown",
      "metadata": {
      },
      "source": [
        "### 3.7 Evaluación de la red <a id=\"testing\"></a>"
      ]
    },
    {
      "cell_type": "code",
      "execution_count": 15,
      "metadata": {
      },
      "outputs": [
        {
          "name": "stdout",
          "output_type": "stream",
          "text": [
            "Comportamiento en datos de evaluación:\n",
            "\tPérdida: -0.9889\n",
            "\tPrecisión: 100.0%\n"
          ]
        }
      ],
      "source": [
        "model.eval()\n",
        "with torch.no_grad():\n",
        "    \n",
        "    correct = 0\n",
        "    for batch_idx, (data, target) in enumerate(test_loader):\n",
        "        output = model(data)\n",
        "        \n",
        "        pred = output.argmax(dim=1, keepdim=True) \n",
        "        correct += pred.eq(target.view_as(pred)).sum().item()\n",
        "        \n",
        "        loss = loss_func(output, target)\n",
        "        total_loss.append(loss.item())\n",
        "        \n",
        "    print('Comportamiento en datos de evaluación:\\n\\tPérdida: {:.4f}\\n\\tPrecisión: {:.1f}%'.format(\n",
        "        sum(total_loss) / len(total_loss),\n",
        "        correct / len(test_loader) * 100)\n",
        "        )"
      ]
    },
    {
      "cell_type": "code",
      "execution_count": 16,
      "metadata": {
      },
      "outputs": [
        {
          "data": {
            "image/svg+xml": [
              "<?xml version=\"1.0\" encoding=\"UTF-8\"?><!DOCTYPE svg  PUBLIC '-//W3C//DTD SVG 1.1//EN'  'http://www.w3.org/Graphics/SVG/1.1/DTD/svg11.dtd'><svg width=\"575.9pt\" height=\"112.73pt\" version=\"1.1\" viewBox=\"0 0 575.9 112.73\" xmlns=\"http://www.w3.org/2000/svg\" xmlns:xlink=\"http://www.w3.org/1999/xlink\"><defs><style type=\"text/css\">*{stroke-linecap:butt;stroke-linejoin:round;}</style></defs><path d=\"m0 112.73h575.9v-112.73h-575.9z\" fill=\"none\"/><path d=\"m10.7 102.03h79.714v-79.714h-79.714z\" fill=\"#ffffff\"/><g clip-path=\"url(#p84b5e367ce)\"><image transform=\"scale(1 -1)translate(0 -80)\" x=\"10.7\" y=\"-22.032\" width=\"80\" height=\"80\" xlink:href=\"data:image/png;base64, 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\"/></g><path d=\"m10.7 102.03v-79.714\" fill=\"none\" stroke=\"#000000\" stroke-linecap=\"square\" stroke-width=\".8\"/><path d=\"m90.414 102.03v-79.714\" fill=\"none\" stroke=\"#000000\" stroke-linecap=\"square\" stroke-width=\".8\"/><path d=\"m10.7 102.03h79.714\" fill=\"none\" stroke=\"#000000\" stroke-linecap=\"square\" stroke-width=\".8\"/><path d=\"m10.7 22.318h79.714\" fill=\"none\" stroke=\"#000000\" stroke-linecap=\"square\" stroke-width=\".8\"/><defs><path id=\"DejaVuSans-80\" d=\"m19.672 64.797v-27.391h12.406q6.8906 0 10.641 3.5625 3.7656 3.5625 3.7656 10.156 0 6.5469-3.7656 10.109-3.75 3.5625-10.641 3.5625zm-9.8594 8.1094h22.266q12.266 0 18.531-5.5469 6.2812-5.5469 6.2812-16.234 0-10.797-6.2812-16.312-6.2656-5.5156-18.531-5.5156h-12.406v-29.297h-9.8594z\"/><path id=\"DejaVuSans-114\" d=\"m41.109 46.297q-1.5156 0.875-3.2969 1.2812-1.7812 0.42188-3.9219 0.42188-7.625 0-11.703-4.9531t-4.0781-14.234v-28.812h-9.0312v54.688h9.0312v-8.5q2.8438 4.9844 7.375 7.3906 4.5469 2.4219 11.047 2.4219 0.92188 0 2.0469-0.125 1.125-0.10938 2.4844-0.35938z\"/><path id=\"DejaVuSans-101\" d=\"m56.203 29.594v-4.3906h-41.312q0.59375-9.2812 5.5938-14.141t13.938-4.8594q5.1719 0 10.031 1.2656t9.6562 3.8125v-8.5q-4.8438-2.0469-9.9219-3.125t-10.297-1.0781q-13.094 0-20.734 7.6094-7.6406 7.625-7.6406 20.625 0 13.422 7.25 21.297 7.25 7.8906 19.562 7.8906 11.031 0 17.453-7.1094 6.4219-7.0938 6.4219-19.297zm-8.9844 2.6406q-0.09375 7.3594-4.125 11.75-4.0312 4.4062-10.672 4.4062-7.5156 0-12.031-4.25t-5.2031-11.969z\"/><path id=\"DejaVuSans-100\" d=\"m45.406 46.391v29.594h8.9844v-75.984h-8.9844v8.2031q-2.8281-4.875-7.1562-7.25-4.3125-2.375-10.375-2.375-9.9062 0-16.141 7.9062-6.2188 7.9219-6.2188 20.812t6.2188 20.797q6.2344 7.9062 16.141 7.9062 6.0625 0 10.375-2.375 4.3281-2.3594 7.1562-7.2344zm-30.609-19.094q0-9.9062 4.0781-15.547t11.203-5.6406 11.219 5.6406q4.1094 5.6406 4.1094 15.547t-4.1094 15.547q-4.0938 5.6406-11.219 5.6406t-11.203-5.6406-4.0781-15.547z\"/><path id=\"DejaVuSans-105\" d=\"m9.4219 54.688h8.9844v-54.688h-8.9844zm0 21.297h8.9844v-11.391h-8.9844z\"/><path id=\"DejaVuSans-99\" d=\"m48.781 52.594v-8.4062q-3.8125 2.1094-7.6406 3.1562t-7.7344 1.0469q-8.75 0-13.594-5.5469-4.8281-5.5312-4.8281-15.547t4.8281-15.562q4.8438-5.5312 13.594-5.5312 3.9062 0 7.7344 1.0469t7.6406 3.1562v-8.3125q-3.7656-1.75-7.7969-2.625-4.0156-0.89062-8.5625-0.89062-12.359 0-19.641 7.7656-7.2656 7.7656-7.2656 20.953 0 13.375 7.3438 21.031 7.3594 7.6719 20.156 7.6719 4.1406 0 8.0938-0.85938 3.9531-0.84375 7.6719-2.5469z\"/><path id=\"DejaVuSans-116\" d=\"m18.312 70.219v-15.531h18.5v-6.9844h-18.5v-29.688q0-6.6875 1.8281-8.5938t7.4531-1.9062h9.2188v-7.5156h-9.2188q-10.406 0-14.359 3.875-3.9531 3.8906-3.9531 14.141v29.688h-6.5938v6.9844h6.5938v15.531z\"/><path id=\"DejaVuSans-49\" d=\"m12.406 8.2969h16.109v55.625l-17.531-3.5156v8.9844l17.438 3.5156h9.8594v-64.609h16.109v-8.2969h-41.984z\"/></defs><g transform=\"translate(16.668 16.318) scale(.12 -.12)\"><use xlink:href=\"#DejaVuSans-80\"/><use x=\"58.552734\" xlink:href=\"#DejaVuSans-114\"/><use x=\"97.416016\" xlink:href=\"#DejaVuSans-101\"/><use x=\"158.939453\" xlink:href=\"#DejaVuSans-100\"/><use x=\"222.416016\" xlink:href=\"#DejaVuSans-105\"/><use x=\"250.199219\" xlink:href=\"#DejaVuSans-99\"/><use x=\"305.179688\" xlink:href=\"#DejaVuSans-116\"/><use x=\"344.388672\" xlink:href=\"#DejaVuSans-101\"/><use x=\"405.912109\" xlink:href=\"#DejaVuSans-100\"/><use x=\"469.388672\" xlink:href=\"#DejaVuSans-32\"/><use x=\"501.175781\" xlink:href=\"#DejaVuSans-49\"/></g><path d=\"m106.36 102.03h79.714v-79.714h-79.714z\" fill=\"#ffffff\"/><g clip-path=\"url(#pa4e38380aa)\"><image transform=\"scale(1 -1)translate(0 -80)\" x=\"106.36\" y=\"-22.032\" width=\"80\" height=\"80\" xlink:href=\"data:image/png;base64, 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\"/></g><path d=\"m106.36 102.03v-79.714\" fill=\"none\" stroke=\"#000000\" stroke-linecap=\"square\" stroke-width=\".8\"/><path d=\"m186.07 102.03v-79.714\" fill=\"none\" stroke=\"#000000\" stroke-linecap=\"square\" stroke-width=\".8\"/><path d=\"m106.36 102.03h79.714\" fill=\"none\" stroke=\"#000000\" stroke-linecap=\"square\" stroke-width=\".8\"/><path d=\"m106.36 22.318h79.714\" fill=\"none\" stroke=\"#000000\" stroke-linecap=\"square\" stroke-width=\".8\"/><defs><path id=\"DejaVuSans-48\" d=\"m31.781 66.406q-7.6094 0-11.453-7.5-3.8281-7.4844-3.8281-22.531 0-14.984 3.8281-22.484 3.8438-7.5 11.453-7.5 7.6719 0 11.5 7.5 3.8438 7.5 3.8438 22.484 0 15.047-3.8438 22.531-3.8281 7.5-11.5 7.5zm0 7.8125q12.266 0 18.734-9.7031 6.4688-9.6875 6.4688-28.141 0-18.406-6.4688-28.109-6.4688-9.6875-18.734-9.6875-12.25 0-18.719 9.6875-6.4688 9.7031-6.4688 28.109 0 18.453 6.4688 28.141 6.4688 9.7031 18.719 9.7031z\"/></defs><g transform=\"translate(112.33 16.318) scale(.12 -.12)\"><use xlink:href=\"#DejaVuSans-80\"/><use x=\"58.552734\" xlink:href=\"#DejaVuSans-114\"/><use x=\"97.416016\" xlink:href=\"#DejaVuSans-101\"/><use x=\"158.939453\" xlink:href=\"#DejaVuSans-100\"/><use x=\"222.416016\" xlink:href=\"#DejaVuSans-105\"/><use x=\"250.199219\" xlink:href=\"#DejaVuSans-99\"/><use x=\"305.179688\" xlink:href=\"#DejaVuSans-116\"/><use x=\"344.388672\" xlink:href=\"#DejaVuSans-101\"/><use x=\"405.912109\" xlink:href=\"#DejaVuSans-100\"/><use x=\"469.388672\" xlink:href=\"#DejaVuSans-32\"/><use x=\"501.175781\" xlink:href=\"#DejaVuSans-48\"/></g><path d=\"m202.01 102.03h79.714v-79.714h-79.714z\" fill=\"#ffffff\"/><g clip-path=\"url(#p8c746f8b80)\"><image transform=\"scale(1 -1)translate(0 -80)\" x=\"202.01\" y=\"-22.032\" width=\"80\" height=\"80\" xlink:href=\"data:image/png;base64, iVBORw0KGgoAAAANSUhEUgAAAFAAAABQCAYAAACOEfKtAAAABHNCSVQICAgIfAhkiAAABMJJREFUeJztnEtv00oUgD+/TWK3Cg9RsQA2iC0Sexb8cZYsKlVIIAqIliJRtTQOifOynbE9d4Hs2yLKBWYxE935NkmjSJl8OeNjn3NcB5BY/hpX9wK2HStQEStQEStQEStQEStQEStQEStQEStQEV/3AgAcxyGKIoIg6P8GaJqGzWZD0zQASCmvPJqAEQKHwyFPnjzh0aNH+L5PGIZ4nsfFxQWvXr0iy7JeZtu2NE2DEMIIkUYIHAwGPH36lOfPnxOGIcPhkDAMeffuHXmeU9c1m82Goihomoaqqqjr2gr0fR/P84jjmDRN2d3dJQxDBoMBYRgyGo3Y29tjvV5TVRXL5ZK6rpnNZlRVRdu2Opf//Tvo+mDXdRmNRuzu7nLv3j3u37/PgwcPrmzhMAyJ45g8z1ksFmRZRlmWHBwc8OLFC+bzua7l92gVmKYpe3t73L17t3/0fR/XdXvBDx8+RErJbDbj9PSU1WpFWZa8fPny/y3QcRxc1yUIgn4ru66L4zh9Fr78PAgCoiiirmuCIOhf141WgXEckyQJaZr227aT+CNBELCzs0MQBAwGA1zXjFNY7UkkjmOiKML3/SsR9yNdsnEchzAMjYlAM37GLcYKVMQKVMSIK5HL/OzYZsIVx3XYCFTEClTEClTEClTEuCRicsL4GTYCFbECFbECFbECFbECFbECFbECFbECFdEqsG1b6ro2psf7N2gTKKXsm+VlWSKEoG1bI3q9f4L2CKyqCiEETdPQti1Syq2KRm3XwlJKiqJgPp+TJAlFUSCEAPhlc8k0tAlsmoYsy1gsFlRVxWQy6cc1usb6NqA9AouiIE1TiqKgrmtc192q4+B2/Mx839ae5+F5HlEUkSQJSZIQRZHWdRlXD7yObgxESkmapty5c4e6rsnzvM/gWtal5VP/ki4Ku4mGOI77iQZdbFUEep6HlJIbN26ws7NDURSs12sr8HdwHKcffRsOh9y+fZumacjzXKtAY7awlLI/ll13It2dH3bbOAgCPM+zAoUQnJ+fc3R0xOfPn1mtVrqX9NsYI/Ds7IzDw0OOj49ZLpe6l/TbGCGwKyyUZXnlvpBtwBiBQoi+MmMF/iFt2/YCTbl94XcxQiDQl7G2qZQFBgncVqxARaxARaxARaxARYwoJnRFgfPzc4IgoCzLa997OVub0MUzQmBVVRwdHTGZTJhOpzx79uyn7+vEdfcMbzYb7T1lIwQ2TcN0OmW9XnPz5s1fRiDQV2x0Rx8YIvAy10lZLpeMx2PW6zUnJyecnZ2RZRnL5VKrSGME/tdVSJZl7O/vMx6POTg44O3bt8xmM+3FB2MEwr8D5peLql2xtCxLxuMxFxcXZFnW38WuGyMEdolBCMFiseD4+JjXr18TxzGj0Ygoivj69SsfPnzgy5cvnJ6e9lMMujFGYDcfM51OefPmDVJKbt26xePHjxmNRpycnLC/v8+nT5/6qo0JGCEQ6LOqEIL5fE6WZQDkeY7v+ywWC+bzOXme94NIJmCMQPgucbVa8f79e759+8ZgMODw8JAkSfj48SOTyYS6ro2RB+Bg2D+h7SYQum5b1zgXQhhZrTZO4LZhiwmKWIGKWIGKWIGKWIGKWIGKWIGKWIGKWIGK/AMC+pid4ERxTAAAAABJRU5ErkJggg==\"/></g><path d=\"m202.01 102.03v-79.714\" fill=\"none\" stroke=\"#000000\" stroke-linecap=\"square\" stroke-width=\".8\"/><path d=\"m281.73 102.03v-79.714\" fill=\"none\" stroke=\"#000000\" stroke-linecap=\"square\" stroke-width=\".8\"/><path d=\"m202.01 102.03h79.714\" fill=\"none\" stroke=\"#000000\" stroke-linecap=\"square\" stroke-width=\".8\"/><path d=\"m202.01 22.318h79.714\" fill=\"none\" stroke=\"#000000\" stroke-linecap=\"square\" stroke-width=\".8\"/><g transform=\"translate(207.98 16.318) scale(.12 -.12)\"><use xlink:href=\"#DejaVuSans-80\"/><use x=\"58.552734\" xlink:href=\"#DejaVuSans-114\"/><use x=\"97.416016\" xlink:href=\"#DejaVuSans-101\"/><use x=\"158.939453\" xlink:href=\"#DejaVuSans-100\"/><use x=\"222.416016\" xlink:href=\"#DejaVuSans-105\"/><use x=\"250.199219\" xlink:href=\"#DejaVuSans-99\"/><use x=\"305.179688\" xlink:href=\"#DejaVuSans-116\"/><use x=\"344.388672\" xlink:href=\"#DejaVuSans-101\"/><use x=\"405.912109\" xlink:href=\"#DejaVuSans-100\"/><use x=\"469.388672\" xlink:href=\"#DejaVuSans-32\"/><use x=\"501.175781\" xlink:href=\"#DejaVuSans-49\"/></g><path d=\"m297.67 102.03h79.714v-79.714h-79.714z\" fill=\"#ffffff\"/><g clip-path=\"url(#p1f272d1204)\"><image transform=\"scale(1 -1)translate(0 -80)\" x=\"297.67\" y=\"-22.032\" width=\"80\" height=\"80\" xlink:href=\"data:image/png;base64, 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\"/></g><path d=\"m297.67 102.03v-79.714\" fill=\"none\" stroke=\"#000000\" stroke-linecap=\"square\" stroke-width=\".8\"/><path d=\"m377.39 102.03v-79.714\" fill=\"none\" stroke=\"#000000\" stroke-linecap=\"square\" stroke-width=\".8\"/><path d=\"m297.67 102.03h79.714\" fill=\"none\" stroke=\"#000000\" stroke-linecap=\"square\" stroke-width=\".8\"/><path d=\"m297.67 22.318h79.714\" fill=\"none\" stroke=\"#000000\" stroke-linecap=\"square\" stroke-width=\".8\"/><g transform=\"translate(303.64 16.318) scale(.12 -.12)\"><use xlink:href=\"#DejaVuSans-80\"/><use x=\"58.552734\" xlink:href=\"#DejaVuSans-114\"/><use x=\"97.416016\" xlink:href=\"#DejaVuSans-101\"/><use x=\"158.939453\" xlink:href=\"#DejaVuSans-100\"/><use x=\"222.416016\" xlink:href=\"#DejaVuSans-105\"/><use x=\"250.199219\" xlink:href=\"#DejaVuSans-99\"/><use x=\"305.179688\" xlink:href=\"#DejaVuSans-116\"/><use x=\"344.388672\" xlink:href=\"#DejaVuSans-101\"/><use x=\"405.912109\" xlink:href=\"#DejaVuSans-100\"/><use x=\"469.388672\" xlink:href=\"#DejaVuSans-32\"/><use x=\"501.175781\" xlink:href=\"#DejaVuSans-49\"/></g><path d=\"m393.33 102.03h79.714v-79.714h-79.714z\" fill=\"#ffffff\"/><g clip-path=\"url(#p835d4d3cd2)\"><image transform=\"scale(1 -1)translate(0 -80)\" x=\"393.33\" y=\"-22.032\" width=\"80\" height=\"80\" xlink:href=\"data:image/png;base64, iVBORw0KGgoAAAANSUhEUgAAAFAAAABQCAYAAACOEfKtAAAABHNCSVQICAgIfAhkiAAABTZJREFUeJztnEtv01oXQJffrvNonEcjKBQJRjDgn/CnGSJ+QBkgBVJRCNCkcRq/7Tuo7M+N2n5X14OzK3lJkaKMjlb28dl7e9saUNLxn9FVL+Cp0wlsSSewJZ3AlnQCW9IJbImpegGPoes6hmGg67f/c1neZlxFUZBlmcql1YgTqGkapmliGAaz2Yz3798znU7J85w4jsmyjO/fv3N+fs5+v6+lqkKcQF3XsW0by7I4Ozvjw4cPvH37liiKCIKAJEn4+PEjy+WSKIooikKpRHECNU3Dsixc16XX6+H7PuPxmCRJsG2bOI7p9/v11i7LshPYxHEcXrx4wXQ65c2bNzx79oyTkxOyLMP3fZIkYT6f0+v16ohMkkTZekUKPD095dWrV7x+/Zr5fM5kMqkjLcsyZrMZnufhOA5FUZCmqbIoFCdQ07T69K22qaZpaJoG3J7Ezd+q31XR5YEt6QS2RJzAKg+0LAvDMJRv0f+HOIG6rnN0dMRgMMDzPAzDUL2kRxEpsMoDbduuyzipiFudYRgMBgMmkwnD4RDLskSctg8hLo1xXZezszPevXvHaDTC8zw0TaMsS5EixQlsRmC/38eyLIBaYvVdCuK2cJNmddGseVV3YJqIFgjU3RaJ8kC4QKnSmogTmOc5u92O9XrNbrcjz3PVS3oUcQKzLOP6+prfv3+zXq9J01T1kh5FnMCyLMnznCzLyPNc9PYFgQJN02QwGDAejxkOh5imuEzrDuJWZ5omx8fHzGYzer1enQdKRVwEAncaqtIRKfAp0QlsyZMQKKn2PUS8wMObStJkijuFmzRlPfRdNeIj8D4kJdeiI7AsyzuzL6rHOO5DtMAKadKaPMktLIlOYEs6gS0RcQ2sbqbbto3v+wyHQ/r9Po7j1PVwlmXEcUySJIRhWLe7iqJQunYRAk3TZDKZMB6PefnyJfP5nOl0Wt9kB4jjmKurK8Iw5Pr6mjiOSdNUec9QhEBN07BtG8/z8DyvnkqoRt3g9uZSHMdEUVTPSqse7wUhAisO5/6aFUeapgRBwG63Y7/fk2VZLVElYgRWw5TNT5Moiliv12w2GzabDVEUKZ1MrRBxClfRdthEPax5syy7c91TLQ+ERKCu6/T7fcbjMcfHxziOI7b7coiICKzmYWazGaPRCMdxAPnyQIjA5rMhruveOxPYPIUlXPsqRGxhwzDwfZ/T01NOTk5wXRegHmkD2Gw2nJ+fc3l5yXK5VPpsSBMxAkejEc+fP8f3fVzXreVVkbbdbvny5QuLxYLLy0sxEwtitvBD6UtF1RuUUL41ESHwKdMJbImIa+BDVFu2LEuiKCIMQ/b7PUmSdKfwv6Gqf5Mk4devX1xcXLBcLut2lgREC8zznDAMCcOQ7XbL1dUV6/Va1EGi/BrYfDrTsixM07zzjoQ0Teve3+FdOgkojcAqbTFNE9d18TyPo6OjO13oIAjYbrcEQUAcx8obqIcojcCqC1NJrCKwqj6qh6mrBqqUDkwTpRHY3L62beO6LpZlkSQJQRDw9+9fFosFq9WKHz9+iCnfmijfwqZpYpomvV6P0WiEYRjc3Nyw3+9ZLBZ8+vSJb9++cXFxwc3Njcrl3osygc22/WEZF8cxRVGw3W758+cPP3/+ZLvdikldmigTWE3jw22j4PPnz3WDoDooVqsVX79+ZbVasdvtRArUUPwGy6qVXz1gDf+bhUnTlDAMSdO0ft2TtENEucCnjvJE+qnTCWxJJ7AlncCWdAJb0glsSSewJZ3AlnQCW9IJbEknsCWdwJb8A0UMiOeX8L93AAAAAElFTkSuQmCC\"/></g><path d=\"m393.33 102.03v-79.714\" fill=\"none\" stroke=\"#000000\" stroke-linecap=\"square\" stroke-width=\".8\"/><path d=\"m473.04 102.03v-79.714\" fill=\"none\" stroke=\"#000000\" stroke-linecap=\"square\" stroke-width=\".8\"/><path d=\"m393.33 102.03h79.714\" fill=\"none\" stroke=\"#000000\" stroke-linecap=\"square\" stroke-width=\".8\"/><path d=\"m393.33 22.318h79.714\" fill=\"none\" stroke=\"#000000\" stroke-linecap=\"square\" stroke-width=\".8\"/><g transform=\"translate(399.3 16.318) scale(.12 -.12)\"><use xlink:href=\"#DejaVuSans-80\"/><use x=\"58.552734\" xlink:href=\"#DejaVuSans-114\"/><use x=\"97.416016\" xlink:href=\"#DejaVuSans-101\"/><use x=\"158.939453\" xlink:href=\"#DejaVuSans-100\"/><use x=\"222.416016\" xlink:href=\"#DejaVuSans-105\"/><use x=\"250.199219\" xlink:href=\"#DejaVuSans-99\"/><use x=\"305.179688\" xlink:href=\"#DejaVuSans-116\"/><use x=\"344.388672\" xlink:href=\"#DejaVuSans-101\"/><use x=\"405.912109\" xlink:href=\"#DejaVuSans-100\"/><use x=\"469.388672\" xlink:href=\"#DejaVuSans-32\"/><use x=\"501.175781\" xlink:href=\"#DejaVuSans-49\"/></g><path d=\"m488.99 102.03h79.714v-79.714h-79.714z\" fill=\"#ffffff\"/><g clip-path=\"url(#p3094b35083)\"><image transform=\"scale(1 -1)translate(0 -80)\" x=\"488.99\" y=\"-22.032\" width=\"80\" height=\"80\" xlink:href=\"data:image/png;base64, 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\"/></g><path d=\"m488.99 102.03v-79.714\" fill=\"none\" stroke=\"#000000\" stroke-linecap=\"square\" stroke-width=\".8\"/><path d=\"m568.7 102.03v-79.714\" fill=\"none\" stroke=\"#000000\" stroke-linecap=\"square\" stroke-width=\".8\"/><path d=\"m488.99 102.03h79.714\" fill=\"none\" stroke=\"#000000\" stroke-linecap=\"square\" stroke-width=\".8\"/><path d=\"m488.99 22.318h79.714\" fill=\"none\" stroke=\"#000000\" stroke-linecap=\"square\" stroke-width=\".8\"/><g transform=\"translate(494.95 16.318) scale(.12 -.12)\"><use xlink:href=\"#DejaVuSans-80\"/><use x=\"58.552734\" xlink:href=\"#DejaVuSans-114\"/><use x=\"97.416016\" xlink:href=\"#DejaVuSans-101\"/><use x=\"158.939453\" xlink:href=\"#DejaVuSans-100\"/><use x=\"222.416016\" xlink:href=\"#DejaVuSans-105\"/><use x=\"250.199219\" xlink:href=\"#DejaVuSans-99\"/><use x=\"305.179688\" xlink:href=\"#DejaVuSans-116\"/><use x=\"344.388672\" xlink:href=\"#DejaVuSans-101\"/><use x=\"405.912109\" xlink:href=\"#DejaVuSans-100\"/><use x=\"469.388672\" xlink:href=\"#DejaVuSans-32\"/><use x=\"501.175781\" xlink:href=\"#DejaVuSans-48\"/></g><defs><clipPath id=\"p84b5e367ce\"><rect x=\"10.7\" y=\"22.318\" width=\"79.714\" height=\"79.714\"/></clipPath><clipPath id=\"pa4e38380aa\"><rect x=\"106.36\" y=\"22.318\" width=\"79.714\" height=\"79.714\"/></clipPath><clipPath id=\"p8c746f8b80\"><rect x=\"202.01\" y=\"22.318\" width=\"79.714\" height=\"79.714\"/></clipPath><clipPath id=\"p1f272d1204\"><rect x=\"297.67\" y=\"22.318\" width=\"79.714\" height=\"79.714\"/></clipPath><clipPath id=\"p835d4d3cd2\"><rect x=\"393.33\" y=\"22.318\" width=\"79.714\" height=\"79.714\"/></clipPath><clipPath id=\"p3094b35083\"><rect x=\"488.99\" y=\"22.318\" width=\"79.714\" height=\"79.714\"/></clipPath></defs></svg>"
            ],
            "text/plain": [
              "<Figure size 720x216 with 6 Axes>"
            ]
          },
          "metadata": {
          },
          "output_type": "display_data"
        }
      ],
      "source": [
        "n_samples_show = 6\n",
        "count = 0\n",
        "fig, axes = plt.subplots(nrows=1, ncols=n_samples_show, figsize=(10, 3))\n",
        "\n",
        "model.eval()\n",
        "with torch.no_grad():\n",
        "    for batch_idx, (data, target) in enumerate(test_loader):\n",
        "        if count == n_samples_show:\n",
        "            break\n",
        "        output = model(data)\n",
        "        \n",
        "        pred = output.argmax(dim=1, keepdim=True) \n",
        "\n",
        "        axes[count].imshow(data[0].numpy().squeeze(), cmap='gray')\n",
        "\n",
        "        axes[count].set_xticks([])\n",
        "        axes[count].set_yticks([])\n",
        "        axes[count].set_title('Predicted {}'.format(pred.item()))\n",
        "        \n",
        "        count += 1"
      ]
    },
    {
      "cell_type": "markdown",
      "metadata": {
      },
      "source": [
        "## 4. ¿Qué sigue? <a id=\"what-now\"></a>\n",
        "\n",
        "#### Si bien es totalmente posible crear redes neuronales híbridas, ¿Realmente tiene algún beneficio?\n",
        "\n",
        "De hecho, las capas clásicas de esta red se entrenan perfectamente bien (de hecho, mejor) sin la capa cuántica. Además, es posible que haya notado que la capa cuántica que entrenamos aquí **no genera entrelazamiento** y, por lo tanto, seguirá siendo clásicamente simulable a medida que ampliamos esta arquitectura en particular. Esto significa que si espera lograr una ventaja cuántica utilizando redes neuronales híbridas, deberá comenzar extendiendo este código para incluir una capa cuántica más sofisticada.\n",
        "\n",
        "El objetivo de este ejercicio era reflexionar sobre la integración de técnicas de ML y de computación cuántica para investigar si realmente hay algún elemento de interés en esta disciplina. Gracias a PyTorch y Qiskit, esto es relativamente sencillo."
      ]
    },
    {
      "cell_type": "code",
      "execution_count": 17,
      "metadata": {
      },
      "outputs": [
        {
          "data": {
            "text/plain": [
              "{'qiskit-terra': '0.16.1',\n",
              " 'qiskit-aer': '0.7.2',\n",
              " 'qiskit-ignis': '0.5.1',\n",
              " 'qiskit-ibmq-provider': '0.11.1',\n",
              " 'qiskit-aqua': '0.8.1',\n",
              " 'qiskit': '0.23.2'}"
            ]
          },
          "execution_count": 17,
          "metadata": {
          },
          "output_type": "execute_result"
        }
      ],
      "source": [
        "import qiskit\n",
        "qiskit.__qiskit_version__"
      ]
    }
  ],
  "metadata": {
    "kernelspec": {
      "display_name": "Python 3",
      "language": "python",
      "name": "python3"
    },
    "language_info": {
      "codemirror_mode": {
        "name": "ipython",
        "version": 3
      },
      "file_extension": ".py",
      "mimetype": "text/x-python",
      "name": "python",
      "nbconvert_exporter": "python",
      "pygments_lexer": "ipython3",
      "version": "3.9"
    }
  },
  "nbformat": 4,
  "nbformat_minor": 2
}
